{
 "cells": [
  {
   "cell_type": "markdown",
   "metadata": {
    "id": "cljjM-R5AY-t"
   },
   "source": [
    "## Fine Tuning LLM (Phi3/Phi2) on Custom Dataset\n",
    "\n",
    "This notebook demonstrates how to fine-tune a pre-trained LLM (Phi3/Phi2) model on a custom dataset using the Hugging Face Transformers library.\n",
    "\n",
    "Plan of Attack:\n",
    "- Data Analysis\n",
    "- Model Loading\n",
    "- Parameter Efficient Fine-Tuning (PEFT)\n",
    "  - QLORA (8-bit) [4-bit QLORA is covered in next section]\n",
    "- Model Training\n",
    "- Model Save and Load"
   ]
  },
  {
   "cell_type": "markdown",
   "metadata": {
    "id": "0RPrNCYpAY-w"
   },
   "source": [
    "## LLM Fine-Tuning\n",
    "- Language Modelling\n",
    "- Supervised Fine Tuning (SFT)\n",
    "- Preference Fine Tuning\n"
   ]
  },
  {
   "cell_type": "markdown",
   "metadata": {
    "id": "ZJRIstlgVtTr"
   },
   "source": [
    "### 2. Load Dataset"
   ]
  },
  {
   "metadata": {
    "ExecuteTime": {
     "end_time": "2024-10-08T16:11:29.870167Z",
     "start_time": "2024-10-08T16:11:29.862522Z"
    }
   },
   "cell_type": "code",
   "source": [
    "from datasets import load_dataset, Dataset, DatasetDict\n",
    "from peft import PeftModel\n",
    "from transformers import TrainingArguments, Trainer, DataCollatorForLanguageModeling\n",
    "from datetime import datetime\n",
    "from accelerate import Accelerator\n",
    "from peft import LoraConfig, get_peft_model\n",
    "from transformers import AutoTokenizer, AutoModelForCausalLM\n",
    "\n",
    "import pandas as pd\n",
    "import torch\n",
    "\n",
    "import warnings\n",
    "warnings.filterwarnings('ignore')"
   ],
   "outputs": [],
   "execution_count": 35
  },
  {
   "cell_type": "code",
   "metadata": {
    "executionInfo": {
     "elapsed": 1923,
     "status": "ok",
     "timestamp": 1721488303499,
     "user": {
      "displayName": "",
      "userId": ""
     },
     "user_tz": -330
    },
    "id": "s6f4z8EYmcJ6",
    "ExecuteTime": {
     "end_time": "2024-10-08T16:11:33.198375Z",
     "start_time": "2024-10-08T16:11:30.319250Z"
    }
   },
   "source": [
    "df = pd.read_csv(\n",
    "    'https://github.com/laxmimerit/All-CSV-ML-Data-Files-Download/raw/master/amazon_product_details.csv',\n",
    "    usecols=['category', 'about_product', 'product_name']   # select only these columns\n",
    ")\n",
    "df"
   ],
   "outputs": [
    {
     "data": {
      "text/plain": [
       "                                           product_name  \\\n",
       "0     Wayona Nylon Braided USB to Lightning Fast Cha...   \n",
       "1     Ambrane Unbreakable 60W / 3A Fast Charging 1.5...   \n",
       "2     Sounce Fast Phone Charging Cable & Data Sync U...   \n",
       "3     boAt Deuce USB 300 2 in 1 Type-C & Micro USB S...   \n",
       "4     Portronics Konnect L 1.2M Fast Charging 3A 8 P...   \n",
       "...                                                 ...   \n",
       "1460  Noir Aqua - 5pcs PP Spun Filter + 1 Spanner | ...   \n",
       "1461  Prestige Delight PRWO Electric Rice Cooker (1 ...   \n",
       "1462  Bajaj Majesty RX10 2000 Watts Heat Convector R...   \n",
       "1463  Havells Ventil Air DSP 230mm Exhaust Fan (Pist...   \n",
       "1464  Borosil Jumbo 1000-Watt Grill Sandwich Maker (...   \n",
       "\n",
       "                                               category  \\\n",
       "0     Computers&Accessories|Accessories&Peripherals|...   \n",
       "1     Computers&Accessories|Accessories&Peripherals|...   \n",
       "2     Computers&Accessories|Accessories&Peripherals|...   \n",
       "3     Computers&Accessories|Accessories&Peripherals|...   \n",
       "4     Computers&Accessories|Accessories&Peripherals|...   \n",
       "...                                                 ...   \n",
       "1460  Home&Kitchen|Kitchen&HomeAppliances|WaterPurif...   \n",
       "1461  Home&Kitchen|Kitchen&HomeAppliances|SmallKitch...   \n",
       "1462  Home&Kitchen|Heating,Cooling&AirQuality|RoomHe...   \n",
       "1463  Home&Kitchen|Heating,Cooling&AirQuality|Fans|E...   \n",
       "1464  Home&Kitchen|Kitchen&HomeAppliances|SmallKitch...   \n",
       "\n",
       "                                          about_product  \n",
       "0     High Compatibility : Compatible With iPhone 12...  \n",
       "1     Compatible with all Type C enabled devices, be...  \n",
       "2     【 Fast Charger& Data Sync】-With built-in safet...  \n",
       "3     The boAt Deuce USB 300 2 in 1 cable is compati...  \n",
       "4     [CHARGE & SYNC FUNCTION]- This cable comes wit...  \n",
       "...                                                 ...  \n",
       "1460  SUPREME QUALITY 90 GRAM 3 LAYER THIK PP SPUN F...  \n",
       "1461                       230 Volts, 400 watts, 1 Year  \n",
       "1462  International design and styling|Two heat sett...  \n",
       "1463  Fan sweep area: 230 MM ; Noise level: (40 - 45...  \n",
       "1464  Brand-Borosil, Specification â€“ 23V ~ 5Hz;1 W...  \n",
       "\n",
       "[1465 rows x 3 columns]"
      ],
      "text/html": [
       "<div>\n",
       "<style scoped>\n",
       "    .dataframe tbody tr th:only-of-type {\n",
       "        vertical-align: middle;\n",
       "    }\n",
       "\n",
       "    .dataframe tbody tr th {\n",
       "        vertical-align: top;\n",
       "    }\n",
       "\n",
       "    .dataframe thead th {\n",
       "        text-align: right;\n",
       "    }\n",
       "</style>\n",
       "<table border=\"1\" class=\"dataframe\">\n",
       "  <thead>\n",
       "    <tr style=\"text-align: right;\">\n",
       "      <th></th>\n",
       "      <th>product_name</th>\n",
       "      <th>category</th>\n",
       "      <th>about_product</th>\n",
       "    </tr>\n",
       "  </thead>\n",
       "  <tbody>\n",
       "    <tr>\n",
       "      <th>0</th>\n",
       "      <td>Wayona Nylon Braided USB to Lightning Fast Cha...</td>\n",
       "      <td>Computers&amp;Accessories|Accessories&amp;Peripherals|...</td>\n",
       "      <td>High Compatibility : Compatible With iPhone 12...</td>\n",
       "    </tr>\n",
       "    <tr>\n",
       "      <th>1</th>\n",
       "      <td>Ambrane Unbreakable 60W / 3A Fast Charging 1.5...</td>\n",
       "      <td>Computers&amp;Accessories|Accessories&amp;Peripherals|...</td>\n",
       "      <td>Compatible with all Type C enabled devices, be...</td>\n",
       "    </tr>\n",
       "    <tr>\n",
       "      <th>2</th>\n",
       "      <td>Sounce Fast Phone Charging Cable &amp; Data Sync U...</td>\n",
       "      <td>Computers&amp;Accessories|Accessories&amp;Peripherals|...</td>\n",
       "      <td>【 Fast Charger&amp; Data Sync】-With built-in safet...</td>\n",
       "    </tr>\n",
       "    <tr>\n",
       "      <th>3</th>\n",
       "      <td>boAt Deuce USB 300 2 in 1 Type-C &amp; Micro USB S...</td>\n",
       "      <td>Computers&amp;Accessories|Accessories&amp;Peripherals|...</td>\n",
       "      <td>The boAt Deuce USB 300 2 in 1 cable is compati...</td>\n",
       "    </tr>\n",
       "    <tr>\n",
       "      <th>4</th>\n",
       "      <td>Portronics Konnect L 1.2M Fast Charging 3A 8 P...</td>\n",
       "      <td>Computers&amp;Accessories|Accessories&amp;Peripherals|...</td>\n",
       "      <td>[CHARGE &amp; SYNC FUNCTION]- This cable comes wit...</td>\n",
       "    </tr>\n",
       "    <tr>\n",
       "      <th>...</th>\n",
       "      <td>...</td>\n",
       "      <td>...</td>\n",
       "      <td>...</td>\n",
       "    </tr>\n",
       "    <tr>\n",
       "      <th>1460</th>\n",
       "      <td>Noir Aqua - 5pcs PP Spun Filter + 1 Spanner | ...</td>\n",
       "      <td>Home&amp;Kitchen|Kitchen&amp;HomeAppliances|WaterPurif...</td>\n",
       "      <td>SUPREME QUALITY 90 GRAM 3 LAYER THIK PP SPUN F...</td>\n",
       "    </tr>\n",
       "    <tr>\n",
       "      <th>1461</th>\n",
       "      <td>Prestige Delight PRWO Electric Rice Cooker (1 ...</td>\n",
       "      <td>Home&amp;Kitchen|Kitchen&amp;HomeAppliances|SmallKitch...</td>\n",
       "      <td>230 Volts, 400 watts, 1 Year</td>\n",
       "    </tr>\n",
       "    <tr>\n",
       "      <th>1462</th>\n",
       "      <td>Bajaj Majesty RX10 2000 Watts Heat Convector R...</td>\n",
       "      <td>Home&amp;Kitchen|Heating,Cooling&amp;AirQuality|RoomHe...</td>\n",
       "      <td>International design and styling|Two heat sett...</td>\n",
       "    </tr>\n",
       "    <tr>\n",
       "      <th>1463</th>\n",
       "      <td>Havells Ventil Air DSP 230mm Exhaust Fan (Pist...</td>\n",
       "      <td>Home&amp;Kitchen|Heating,Cooling&amp;AirQuality|Fans|E...</td>\n",
       "      <td>Fan sweep area: 230 MM ; Noise level: (40 - 45...</td>\n",
       "    </tr>\n",
       "    <tr>\n",
       "      <th>1464</th>\n",
       "      <td>Borosil Jumbo 1000-Watt Grill Sandwich Maker (...</td>\n",
       "      <td>Home&amp;Kitchen|Kitchen&amp;HomeAppliances|SmallKitch...</td>\n",
       "      <td>Brand-Borosil, Specification â€“ 23V ~ 5Hz;1 W...</td>\n",
       "    </tr>\n",
       "  </tbody>\n",
       "</table>\n",
       "<p>1465 rows × 3 columns</p>\n",
       "</div>"
      ]
     },
     "execution_count": 36,
     "metadata": {},
     "output_type": "execute_result"
    }
   ],
   "execution_count": 36
  },
  {
   "cell_type": "code",
   "metadata": {
    "executionInfo": {
     "elapsed": 8,
     "status": "ok",
     "timestamp": 1721488303499,
     "user": {
      "displayName": "",
      "userId": ""
     },
     "user_tz": -330
    },
    "id": "gpxyTMUmsjq_",
    "ExecuteTime": {
     "end_time": "2024-10-08T16:11:33.251958Z",
     "start_time": "2024-10-08T16:11:33.241361Z"
    }
   },
   "source": [
    "df['category'] = df['category'].apply(lambda x: x.split('|')[-1])   # select only last category because for each product there are multiple categories\n",
    "df.category"
   ],
   "outputs": [
    {
     "data": {
      "text/plain": [
       "0                      USBCables\n",
       "1                      USBCables\n",
       "2                      USBCables\n",
       "3                      USBCables\n",
       "4                      USBCables\n",
       "                  ...           \n",
       "1460    WaterPurifierAccessories\n",
       "1461           Rice&PastaCookers\n",
       "1462              HeatConvectors\n",
       "1463                 ExhaustFans\n",
       "1464              SandwichMakers\n",
       "Name: category, Length: 1465, dtype: object"
      ]
     },
     "execution_count": 37,
     "metadata": {},
     "output_type": "execute_result"
    }
   ],
   "execution_count": 37
  },
  {
   "cell_type": "code",
   "metadata": {
    "executionInfo": {
     "elapsed": 7,
     "status": "ok",
     "timestamp": 1721488303499,
     "user": {
      "displayName": "",
      "userId": ""
     },
     "user_tz": -330
    },
    "id": "bMt9OLCrCxAo",
    "ExecuteTime": {
     "end_time": "2024-10-08T16:11:33.396909Z",
     "start_time": "2024-10-08T16:11:33.375607Z"
    }
   },
   "source": [
    "# Split the data into two parts: product name and product description\n",
    "products = df[['category', 'product_name']]\n",
    "description = df[['category', 'about_product']]\n",
    "\n",
    "# Rename the columns\n",
    "products = products.rename(columns={'product_name': 'text'})    # rename to text because it is the text data\n",
    "description = description.rename(columns={'about_product': 'text'})\n",
    "\n",
    "# Create a new column to specify the task type\n",
    "products['task_type'] = 'Product Name'\n",
    "description['task_type'] = 'Product Description'"
   ],
   "outputs": [],
   "execution_count": 38
  },
  {
   "cell_type": "code",
   "metadata": {
    "executionInfo": {
     "elapsed": 7,
     "status": "ok",
     "timestamp": 1721488303499,
     "user": {
      "displayName": "",
      "userId": ""
     },
     "user_tz": -330
    },
    "id": "f9-NRRhKCw9B",
    "ExecuteTime": {
     "end_time": "2024-10-08T16:11:34.758741Z",
     "start_time": "2024-10-08T16:11:34.747531Z"
    }
   },
   "source": [
    "# Concatenate for show with task type and category as well. task_type is the target for what generated text should be.\n",
    "df = pd.concat([products, description], ignore_index=True)\n",
    "df"
   ],
   "outputs": [
    {
     "data": {
      "text/plain": [
       "                      category  \\\n",
       "0                    USBCables   \n",
       "1                    USBCables   \n",
       "2                    USBCables   \n",
       "3                    USBCables   \n",
       "4                    USBCables   \n",
       "...                        ...   \n",
       "2925  WaterPurifierAccessories   \n",
       "2926         Rice&PastaCookers   \n",
       "2927            HeatConvectors   \n",
       "2928               ExhaustFans   \n",
       "2929            SandwichMakers   \n",
       "\n",
       "                                                   text            task_type  \n",
       "0     Wayona Nylon Braided USB to Lightning Fast Cha...         Product Name  \n",
       "1     Ambrane Unbreakable 60W / 3A Fast Charging 1.5...         Product Name  \n",
       "2     Sounce Fast Phone Charging Cable & Data Sync U...         Product Name  \n",
       "3     boAt Deuce USB 300 2 in 1 Type-C & Micro USB S...         Product Name  \n",
       "4     Portronics Konnect L 1.2M Fast Charging 3A 8 P...         Product Name  \n",
       "...                                                 ...                  ...  \n",
       "2925  SUPREME QUALITY 90 GRAM 3 LAYER THIK PP SPUN F...  Product Description  \n",
       "2926                       230 Volts, 400 watts, 1 Year  Product Description  \n",
       "2927  International design and styling|Two heat sett...  Product Description  \n",
       "2928  Fan sweep area: 230 MM ; Noise level: (40 - 45...  Product Description  \n",
       "2929  Brand-Borosil, Specification â€“ 23V ~ 5Hz;1 W...  Product Description  \n",
       "\n",
       "[2930 rows x 3 columns]"
      ],
      "text/html": [
       "<div>\n",
       "<style scoped>\n",
       "    .dataframe tbody tr th:only-of-type {\n",
       "        vertical-align: middle;\n",
       "    }\n",
       "\n",
       "    .dataframe tbody tr th {\n",
       "        vertical-align: top;\n",
       "    }\n",
       "\n",
       "    .dataframe thead th {\n",
       "        text-align: right;\n",
       "    }\n",
       "</style>\n",
       "<table border=\"1\" class=\"dataframe\">\n",
       "  <thead>\n",
       "    <tr style=\"text-align: right;\">\n",
       "      <th></th>\n",
       "      <th>category</th>\n",
       "      <th>text</th>\n",
       "      <th>task_type</th>\n",
       "    </tr>\n",
       "  </thead>\n",
       "  <tbody>\n",
       "    <tr>\n",
       "      <th>0</th>\n",
       "      <td>USBCables</td>\n",
       "      <td>Wayona Nylon Braided USB to Lightning Fast Cha...</td>\n",
       "      <td>Product Name</td>\n",
       "    </tr>\n",
       "    <tr>\n",
       "      <th>1</th>\n",
       "      <td>USBCables</td>\n",
       "      <td>Ambrane Unbreakable 60W / 3A Fast Charging 1.5...</td>\n",
       "      <td>Product Name</td>\n",
       "    </tr>\n",
       "    <tr>\n",
       "      <th>2</th>\n",
       "      <td>USBCables</td>\n",
       "      <td>Sounce Fast Phone Charging Cable &amp; Data Sync U...</td>\n",
       "      <td>Product Name</td>\n",
       "    </tr>\n",
       "    <tr>\n",
       "      <th>3</th>\n",
       "      <td>USBCables</td>\n",
       "      <td>boAt Deuce USB 300 2 in 1 Type-C &amp; Micro USB S...</td>\n",
       "      <td>Product Name</td>\n",
       "    </tr>\n",
       "    <tr>\n",
       "      <th>4</th>\n",
       "      <td>USBCables</td>\n",
       "      <td>Portronics Konnect L 1.2M Fast Charging 3A 8 P...</td>\n",
       "      <td>Product Name</td>\n",
       "    </tr>\n",
       "    <tr>\n",
       "      <th>...</th>\n",
       "      <td>...</td>\n",
       "      <td>...</td>\n",
       "      <td>...</td>\n",
       "    </tr>\n",
       "    <tr>\n",
       "      <th>2925</th>\n",
       "      <td>WaterPurifierAccessories</td>\n",
       "      <td>SUPREME QUALITY 90 GRAM 3 LAYER THIK PP SPUN F...</td>\n",
       "      <td>Product Description</td>\n",
       "    </tr>\n",
       "    <tr>\n",
       "      <th>2926</th>\n",
       "      <td>Rice&amp;PastaCookers</td>\n",
       "      <td>230 Volts, 400 watts, 1 Year</td>\n",
       "      <td>Product Description</td>\n",
       "    </tr>\n",
       "    <tr>\n",
       "      <th>2927</th>\n",
       "      <td>HeatConvectors</td>\n",
       "      <td>International design and styling|Two heat sett...</td>\n",
       "      <td>Product Description</td>\n",
       "    </tr>\n",
       "    <tr>\n",
       "      <th>2928</th>\n",
       "      <td>ExhaustFans</td>\n",
       "      <td>Fan sweep area: 230 MM ; Noise level: (40 - 45...</td>\n",
       "      <td>Product Description</td>\n",
       "    </tr>\n",
       "    <tr>\n",
       "      <th>2929</th>\n",
       "      <td>SandwichMakers</td>\n",
       "      <td>Brand-Borosil, Specification â€“ 23V ~ 5Hz;1 W...</td>\n",
       "      <td>Product Description</td>\n",
       "    </tr>\n",
       "  </tbody>\n",
       "</table>\n",
       "<p>2930 rows × 3 columns</p>\n",
       "</div>"
      ]
     },
     "execution_count": 39,
     "metadata": {},
     "output_type": "execute_result"
    }
   ],
   "execution_count": 39
  },
  {
   "cell_type": "code",
   "metadata": {
    "executionInfo": {
     "elapsed": 8,
     "status": "ok",
     "timestamp": 1721488303500,
     "user": {
      "displayName": "",
      "userId": ""
     },
     "user_tz": -330
    },
    "id": "KsOgctfdCw51",
    "ExecuteTime": {
     "end_time": "2024-10-08T16:11:35.657590Z",
     "start_time": "2024-10-08T16:11:35.618619Z"
    }
   },
   "source": [
    "dataset = Dataset.from_pandas(df)   # this method is used to convert pandas dataframe to huggingface dataset. Transforming the data into a dataset object.\n",
    "\n",
    "dataset = dataset.shuffle(seed=0)   # shuffle method is used to shuffle the data. seed is used to reproduce the same shuffle.\n",
    "dataset = dataset.train_test_split(test_size=0.1)   # train_test_split method is used to split the data into training and testing data. test_size is the size of the test data (0.1 means 10% of the data will be test data)."
   ],
   "outputs": [],
   "execution_count": 40
  },
  {
   "cell_type": "code",
   "metadata": {
    "colab": {
     "base_uri": "https://localhost:8080/"
    },
    "executionInfo": {
     "elapsed": 8,
     "status": "ok",
     "timestamp": 1721488303500,
     "user": {
      "displayName": "",
      "userId": ""
     },
     "user_tz": -330
    },
    "id": "Obt0bY0WCw2u",
    "outputId": "9f96e5b3-8ae5-443b-d00c-d16f6af4dfa8",
    "ExecuteTime": {
     "end_time": "2024-10-08T16:11:36.363230Z",
     "start_time": "2024-10-08T16:11:36.358235Z"
    }
   },
   "source": [
    "dataset"
   ],
   "outputs": [
    {
     "data": {
      "text/plain": [
       "DatasetDict({\n",
       "    train: Dataset({\n",
       "        features: ['category', 'text', 'task_type'],\n",
       "        num_rows: 2637\n",
       "    })\n",
       "    test: Dataset({\n",
       "        features: ['category', 'text', 'task_type'],\n",
       "        num_rows: 293\n",
       "    })\n",
       "})"
      ]
     },
     "execution_count": 41,
     "metadata": {},
     "output_type": "execute_result"
    }
   ],
   "execution_count": 41
  },
  {
   "cell_type": "code",
   "metadata": {
    "colab": {
     "base_uri": "https://localhost:8080/"
    },
    "executionInfo": {
     "elapsed": 6,
     "status": "ok",
     "timestamp": 1721488303500,
     "user": {
      "displayName": "",
      "userId": ""
     },
     "user_tz": -330
    },
    "id": "uld_PjUlCwzS",
    "outputId": "a56d524d-2aef-40b4-9f3a-025b8f5f1c5c",
    "ExecuteTime": {
     "end_time": "2024-10-08T16:11:37.130005Z",
     "start_time": "2024-10-08T16:11:37.123522Z"
    }
   },
   "source": [
    "dataset['test'][2]"
   ],
   "outputs": [
    {
     "data": {
      "text/plain": [
       "{'category': 'WaterFilters&Purifiers',\n",
       " 'text': 'Aquadpure Copper + Mineral RO+UV+UF 10 to 12 Liter RO + UV + TDS ADJUSTER Water Purifier with Copper Charge Technology black & copper Best For Home and Office (Made In India)',\n",
       " 'task_type': 'Product Name'}"
      ]
     },
     "execution_count": 42,
     "metadata": {},
     "output_type": "execute_result"
    }
   ],
   "execution_count": 42
  },
  {
   "cell_type": "markdown",
   "metadata": {
    "id": "nCKm1WYeJDcJ"
   },
   "source": [
    "### Hist Plot"
   ]
  },
  {
   "cell_type": "code",
   "metadata": {
    "executionInfo": {
     "elapsed": 4,
     "status": "ok",
     "timestamp": 1721488303500,
     "user": {
      "displayName": "",
      "userId": ""
     },
     "user_tz": -330
    },
    "id": "IoXnGww_Cwv7",
    "ExecuteTime": {
     "end_time": "2024-10-08T16:11:40.948495Z",
     "start_time": "2024-10-08T16:11:40.926859Z"
    }
   },
   "source": [
    "# 1.5 times of total words (is a rule of thumb)\n",
    "# Create a new column to store the number of tokens in the text data\n",
    "products['text_tokens'] = products['text'].apply(lambda x: len(x.split())*1.5)  # split the text data and multiply by 1.5\n",
    "description['text_tokens'] = description['text'].apply(lambda x: len(x.split())*1.5)    # *1.5 because it is a rule of thumb\n",
    "products.text_tokens"
   ],
   "outputs": [
    {
     "data": {
      "text/plain": [
       "0       48.0\n",
       "1       46.5\n",
       "2       40.5\n",
       "3       48.0\n",
       "4       30.0\n",
       "        ... \n",
       "1460    52.5\n",
       "1461    13.5\n",
       "1462    18.0\n",
       "1463    13.5\n",
       "1464    10.5\n",
       "Name: text_tokens, Length: 1465, dtype: float64"
      ]
     },
     "execution_count": 43,
     "metadata": {},
     "output_type": "execute_result"
    }
   ],
   "execution_count": 43
  },
  {
   "cell_type": "code",
   "metadata": {
    "colab": {
     "base_uri": "https://localhost:8080/",
     "height": 447
    },
    "executionInfo": {
     "elapsed": 632,
     "status": "ok",
     "timestamp": 1721488304128,
     "user": {
      "displayName": "",
      "userId": ""
     },
     "user_tz": -330
    },
    "id": "3TLf1hcsCwsk",
    "outputId": "a9282b13-eba9-4a10-ab6a-e4838ee97e70",
    "ExecuteTime": {
     "end_time": "2024-10-08T16:11:42.099340Z",
     "start_time": "2024-10-08T16:11:41.960289Z"
    }
   },
   "source": [
    "products['text_tokens'].hist()"
   ],
   "outputs": [
    {
     "data": {
      "text/plain": [
       "<Axes: >"
      ]
     },
     "execution_count": 44,
     "metadata": {},
     "output_type": "execute_result"
    },
    {
     "data": {
      "text/plain": [
       "<Figure size 640x480 with 1 Axes>"
      ],
      "image/png": "[encoded data removed]"
     },
     "metadata": {},
     "output_type": "display_data"
    }
   ],
   "execution_count": 44
  },
  {
   "cell_type": "code",
   "metadata": {
    "colab": {
     "base_uri": "https://localhost:8080/",
     "height": 447
    },
    "executionInfo": {
     "elapsed": 9,
     "status": "ok",
     "timestamp": 1721488304129,
     "user": {
      "displayName": "",
      "userId": ""
     },
     "user_tz": -330
    },
    "id": "9lymEymnCwpd",
    "outputId": "2ab212df-c454-4727-f307-17dedf50c67c",
    "ExecuteTime": {
     "end_time": "2024-10-08T16:11:43.266144Z",
     "start_time": "2024-10-08T16:11:43.154900Z"
    }
   },
   "source": [
    "description['text_tokens'].hist()\n",
    "\n",
    "# Use maxim 400 tokens for training the model because most of the data is under 400 tokens.\n",
    "# Analyze the data and decide the max_length for tokenization."
   ],
   "outputs": [
    {
     "data": {
      "text/plain": [
       "<Axes: >"
      ]
     },
     "execution_count": 45,
     "metadata": {},
     "output_type": "execute_result"
    },
    {
     "data": {
      "text/plain": [
       "<Figure size 640x480 with 1 Axes>"
      ],
      "image/png": "[encoded data removed]"
     },
     "metadata": {},
     "output_type": "display_data"
    }
   ],
   "execution_count": 45
  },
  {
   "cell_type": "markdown",
   "metadata": {
    "id": "aGLx5mMKLbj6"
   },
   "source": [
    "## Load Base Model and Prepare Formatting"
   ]
  },
  {
   "cell_type": "markdown",
   "metadata": {
    "id": "Ou9Hjmw6L31h"
   },
   "source": [
    "Lets load phi2 model and tokenize text data with formatting\n",
    "\n",
    "Use phi-2 model because need fine-tuning on base-model. phi-3 not has base-model."
   ]
  },
  {
   "cell_type": "markdown",
   "metadata": {
    "id": "TE1u-iUlMONI"
   },
   "source": [
    "```\n",
    "Given the product category, you need to generate a [Product Name/ Product Description]\n",
    "\n",
    "### Category: [USB Cable]\n",
    "\n",
    "### [Product Name/ Product Description]: [Put product name or description]\n",
    "```"
   ]
  },
  {
   "cell_type": "code",
   "metadata": {
    "executionInfo": {
     "elapsed": 6,
     "status": "ok",
     "timestamp": 1721488304129,
     "user": {
      "displayName": "",
      "userId": ""
     },
     "user_tz": -330
    },
    "id": "DJpVZTybCwmW",
    "ExecuteTime": {
     "end_time": "2024-10-08T16:11:49.621962Z",
     "start_time": "2024-10-08T16:11:49.617695Z"
    }
   },
   "source": [
    "# Formatting function to display the data in a readable format\n",
    "def formatting_func(example):\n",
    "    text = f\"\"\"\n",
    "            Given the product category, you need to generate a '{example['task_type']}'.\n",
    "            ### Category: {example['category']}\\n ### {example['task_type']}: {example['text']}\n",
    "            \"\"\"\n",
    "    \n",
    "    return text"
   ],
   "outputs": [],
   "execution_count": 46
  },
  {
   "cell_type": "code",
   "metadata": {
    "colab": {
     "base_uri": "https://localhost:8080/"
    },
    "executionInfo": {
     "elapsed": 5,
     "status": "ok",
     "timestamp": 1721488304129,
     "user": {
      "displayName": "",
      "userId": ""
     },
     "user_tz": -330
    },
    "id": "5t7JFrRPCwi6",
    "outputId": "81547571-d83a-4d7a-b8e9-e8ae3a5bd4ea",
    "ExecuteTime": {
     "end_time": "2024-10-08T16:11:51.227988Z",
     "start_time": "2024-10-08T16:11:51.224591Z"
    }
   },
   "source": [
    "print(\n",
    "    formatting_func(dataset['train'][0])\n",
    ")   # print the formatted text"
   ],
   "outputs": [
    {
     "name": "stdout",
     "output_type": "stream",
     "text": [
      "\n",
      "            Given the product category, you need to generate a 'Product Description'.\n",
      "            ### Category: CoolingPads\n",
      " ### Product Description: Zebronics Zeb- NC3300 USB powered laptop cooling pad. Speakers: No|Light in weight has dual 120mm fan with Blue LED lights, dual USB ports|It has silent operation and retractable stand for easy usage|1 year carry in to service center\n",
      "            \n"
     ]
    }
   ],
   "execution_count": 47
  },
  {
   "cell_type": "markdown",
   "metadata": {
    "id": "SKwq6R9PNzDw"
   },
   "source": [
    "## Load Base Model and Tokenize"
   ]
  },
  {
   "cell_type": "code",
   "metadata": {
    "colab": {
     "base_uri": "https://localhost:8080/",
     "height": 208,
     "referenced_widgets": [
      "baec49fb05d8406cae3b13db38963290",
      "15da4ef9210246b19e951ef1b51aef39",
      "665f54c01fcb4f5a825e2373212c2bdc",
      "0571049529e64b9faf688878e0c00594",
      "df8c9d39d5fa46f98067f0149a1e024e",
      "3e0bdfe0187e4dd09876790c96d1f94c",
      "6da1af5779c24d638add4701f15cb5a1",
      "0450b322a25c40b3bbf43018c5881311",
      "6cf379ee60b348f8a2734973cfb9117f",
      "e8a8b2118e1d4fe0aaeef55291354c9a",
      "efe165456be745c59b60257d219867c9"
     ]
    },
    "executionInfo": {
     "elapsed": 7229,
     "status": "ok",
     "timestamp": 1721488311353,
     "user": {
      "displayName": "",
      "userId": ""
     },
     "user_tz": -330
    },
    "id": "LIY4_V5RCwfn",
    "outputId": "337f59bb-0ae2-4141-8704-3e0fe65d7f1e",
    "ExecuteTime": {
     "end_time": "2024-10-08T16:12:03.506285Z",
     "start_time": "2024-10-08T16:11:54.218406Z"
    }
   },
   "source": [
    "base_model_id = \"microsoft/phi-2\"   # phi-2 model use\n",
    "\n",
    "model = AutoModelForCausalLM.from_pretrained(       # AutoModelForCausalLM is for generating text based on the input text\n",
    "    base_model_id,      # load the base model \n",
    "    trust_remote_code=True,     # trust the remote code because it is from huggingface  \n",
    "    torch_dtype=torch.float16,      # use float16(16 bits) for training the model \n",
    "    load_in_8bit=True    # load the model in 8-bit (is for load and train the model in 8-bit)\n",
    ")"
   ],
   "outputs": [
    {
     "name": "stderr",
     "output_type": "stream",
     "text": [
      "The `load_in_4bit` and `load_in_8bit` arguments are deprecated and will be removed in the future versions. Please, pass a `BitsAndBytesConfig` object in `quantization_config` argument instead.\n",
      "`low_cpu_mem_usage` was None, now set to True since model is quantized.\n"
     ]
    },
    {
     "data": {
      "text/plain": [
       "Loading checkpoint shards:   0%|          | 0/2 [00:00<?, ?it/s]"
      ],
      "application/vnd.jupyter.widget-view+json": {
       "version_major": 2,
       "version_minor": 0,
       "model_id": "a8b384a81e2d4128b83f4a6c9c28a796"
      }
     },
     "metadata": {},
     "output_type": "display_data"
    }
   ],
   "execution_count": 48
  },
  {
   "cell_type": "code",
   "metadata": {
    "colab": {
     "base_uri": "https://localhost:8080/"
    },
    "executionInfo": {
     "elapsed": 6,
     "status": "ok",
     "timestamp": 1721488311354,
     "user": {
      "displayName": "",
      "userId": ""
     },
     "user_tz": -330
    },
    "id": "b4UNFHKeCwck",
    "outputId": "5e763519-1b65-47d6-b64a-1f77644d086a",
    "ExecuteTime": {
     "end_time": "2024-10-08T13:52:11.455759Z",
     "start_time": "2024-10-08T13:52:11.016754Z"
    }
   },
   "source": [
    "# Tokenizer (Transform text data into tokens for training the model)\n",
    "tokenizer = AutoTokenizer.from_pretrained(\n",
    "    base_model_id,  # load the base model\n",
    "    padding_size='left',    # this param is used to pad the data from left side (it uses to make the data of same length)\n",
    "    add_eos_token=True,    # add EOS == end of sentence token. It is used to tell the model that the sentence is ended.\n",
    "    add_bos_token=True,    # add BOS == begin of sentence token. It is used to tell the model that the sentence is started.\n",
    "    use_fast=False  # use_fast is used to make the tokenization faster. If it is False then it will not use fast tokenization.\n",
    ")\n",
    "\n",
    "\n",
    "# Padding token is used to make the data of the same length. It is used to pad the data from left side.\n",
    "tokenizer.pad_token = tokenizer.eos_token   # pad_token is used to pad the data. eos_token is used to tell the model that the sentence is ended.\n",
    "\n",
    "\n",
    "\n",
    "\n",
    "# Exemple of padding:\n",
    "### i like apple\n",
    "### because i am from earth\n",
    "### i like apple [pad] [pad] because i am from earth -> right padding\n",
    "### [pad] [pad] i like apple because i am from earth -> left padding"
   ],
   "outputs": [],
   "execution_count": 28
  },
  {
   "cell_type": "code",
   "metadata": {
    "executionInfo": {
     "elapsed": 5,
     "status": "ok",
     "timestamp": 1721488311354,
     "user": {
      "displayName": "",
      "userId": ""
     },
     "user_tz": -330
    },
    "id": "vPhw0CuDCwZj",
    "ExecuteTime": {
     "end_time": "2024-10-08T14:36:53.606958Z",
     "start_time": "2024-10-08T14:36:53.600640Z"
    }
   },
   "source": [
    "max_length = 400    # max_length is the maximum length of the data. It is used to make the data of the same length.\n",
    "\n",
    "def tokenize(prompt):   # tokenize function is used to convert the text data into tokens for training the model.\n",
    "  result = tokenizer(\n",
    "      formatting_func(prompt), \n",
    "      truncation = True,    # truncation is used to truncate the data. If the data is larger than the max_length(400) then it will truncate the data.\n",
    "      max_length=max_length,\n",
    "      padding = \"max_length\"    # padding is used to pad the data. If the data is smaller than the max_length(400) then it will pad the data (eos_token) to make the data of the same length.\n",
    "  )\n",
    "\n",
    "  # Add a new key 'labels' to the result dictionary\n",
    "  # copy the input_ids values because it is used to calculate the loss.\n",
    "  # input_ids represent the input data and labels represent the output data or predicted data.\n",
    "  # input_ids and labels are same that's means that the model will learn to predict the next token based on previous tokens.\n",
    "  result['labels'] = result['input_ids'].copy()   # use copy because i want to keep the values separate in the memory.\n",
    "\n",
    "  return result"
   ],
   "outputs": [],
   "execution_count": 29
  },
  {
   "cell_type": "code",
   "metadata": {
    "colab": {
     "base_uri": "https://localhost:8080/"
    },
    "executionInfo": {
     "elapsed": 5,
     "status": "ok",
     "timestamp": 1721488311354,
     "user": {
      "displayName": "",
      "userId": ""
     },
     "user_tz": -330
    },
    "id": "MDVnPVALCwWe",
    "outputId": "4687ca0a-073a-47e7-dc3f-68f0cc3c5390",
    "ExecuteTime": {
     "end_time": "2024-10-08T14:36:55.812986Z",
     "start_time": "2024-10-08T14:36:55.801891Z"
    }
   },
   "source": [
    "print(tokenize(dataset['train'][0]))"
   ],
   "outputs": [
    {
     "name": "stdout",
     "output_type": "stream",
     "text": [
      "{'input_ids': [50256, 198, 50276, 15056, 262, 1720, 6536, 11, 345, 761, 284, 7716, 257, 705, 15667, 6530, 4458, 198, 50276, 21017, 21743, 25, 14484, 1925, 8357, 198, 44386, 8721, 6530, 25, 406, 2969, 41809, 1105, 79, 6359, 46727, 20249, 21916, 669, 329, 14797, 263, 11, 370, 2387, 11, 6060, 14797, 263, 20249, 37138, 329, 22476, 364, 11, 12440, 1380, 1952, 3503, 12195, 49141, 8, 198, 50276, 50256, 50256, 50256, 50256, 50256, 50256, 50256, 50256, 50256, 50256, 50256, 50256, 50256, 50256, 50256, 50256, 50256, 50256, 50256, 50256, 50256, 50256, 50256, 50256, 50256, 50256, 50256, 50256, 50256, 50256, 50256, 50256, 50256, 50256, 50256, 50256, 50256, 50256, 50256, 50256, 50256, 50256, 50256, 50256, 50256, 50256, 50256, 50256, 50256, 50256, 50256, 50256, 50256, 50256, 50256, 50256, 50256, 50256, 50256, 50256, 50256, 50256, 50256, 50256, 50256, 50256, 50256, 50256, 50256, 50256, 50256, 50256, 50256, 50256, 50256, 50256, 50256, 50256, 50256, 50256, 50256, 50256, 50256, 50256, 50256, 50256, 50256, 50256, 50256, 50256, 50256, 50256, 50256, 50256, 50256, 50256, 50256, 50256, 50256, 50256, 50256, 50256, 50256, 50256, 50256, 50256, 50256, 50256, 50256, 50256, 50256, 50256, 50256, 50256, 50256, 50256, 50256, 50256, 50256, 50256, 50256, 50256, 50256, 50256, 50256, 50256, 50256, 50256, 50256, 50256, 50256, 50256, 50256, 50256, 50256, 50256, 50256, 50256, 50256, 50256, 50256, 50256, 50256, 50256, 50256, 50256, 50256, 50256, 50256, 50256, 50256, 50256, 50256, 50256, 50256, 50256, 50256, 50256, 50256, 50256, 50256, 50256, 50256, 50256, 50256, 50256, 50256, 50256, 50256, 50256, 50256, 50256, 50256, 50256, 50256, 50256, 50256, 50256, 50256, 50256, 50256, 50256, 50256, 50256, 50256, 50256, 50256, 50256, 50256, 50256, 50256, 50256, 50256, 50256, 50256, 50256, 50256, 50256, 50256, 50256, 50256, 50256, 50256, 50256, 50256, 50256, 50256, 50256, 50256, 50256, 50256, 50256, 50256, 50256, 50256, 50256, 50256, 50256, 50256, 50256, 50256, 50256, 50256, 50256, 50256, 50256, 50256, 50256, 50256, 50256, 50256, 50256, 50256, 50256, 50256, 50256, 50256, 50256, 50256, 50256, 50256, 50256, 50256, 50256, 50256, 50256, 50256, 50256, 50256, 50256, 50256, 50256, 50256, 50256, 50256, 50256, 50256, 50256, 50256, 50256, 50256, 50256, 50256, 50256, 50256, 50256, 50256, 50256, 50256, 50256, 50256, 50256, 50256, 50256, 50256, 50256, 50256, 50256, 50256, 50256, 50256, 50256, 50256, 50256, 50256, 50256, 50256, 50256, 50256, 50256, 50256, 50256, 50256, 50256, 50256, 50256, 50256, 50256, 50256, 50256, 50256, 50256, 50256, 50256, 50256, 50256, 50256, 50256, 50256, 50256, 50256, 50256, 50256, 50256, 50256, 50256, 50256, 50256, 50256, 50256, 50256, 50256, 50256, 50256, 50256, 50256, 50256, 50256, 50256, 50256, 50256, 50256, 50256, 50256, 50256], 'attention_mask': [1, 1, 1, 1, 1, 1, 1, 1, 1, 1, 1, 1, 1, 1, 1, 1, 1, 1, 1, 1, 1, 1, 1, 1, 1, 1, 1, 1, 1, 1, 1, 1, 1, 1, 1, 1, 1, 1, 1, 1, 1, 1, 1, 1, 1, 1, 1, 1, 1, 1, 1, 1, 1, 1, 1, 1, 1, 1, 1, 1, 1, 1, 1, 1, 1, 0, 0, 0, 0, 0, 0, 0, 0, 0, 0, 0, 0, 0, 0, 0, 0, 0, 0, 0, 0, 0, 0, 0, 0, 0, 0, 0, 0, 0, 0, 0, 0, 0, 0, 0, 0, 0, 0, 0, 0, 0, 0, 0, 0, 0, 0, 0, 0, 0, 0, 0, 0, 0, 0, 0, 0, 0, 0, 0, 0, 0, 0, 0, 0, 0, 0, 0, 0, 0, 0, 0, 0, 0, 0, 0, 0, 0, 0, 0, 0, 0, 0, 0, 0, 0, 0, 0, 0, 0, 0, 0, 0, 0, 0, 0, 0, 0, 0, 0, 0, 0, 0, 0, 0, 0, 0, 0, 0, 0, 0, 0, 0, 0, 0, 0, 0, 0, 0, 0, 0, 0, 0, 0, 0, 0, 0, 0, 0, 0, 0, 0, 0, 0, 0, 0, 0, 0, 0, 0, 0, 0, 0, 0, 0, 0, 0, 0, 0, 0, 0, 0, 0, 0, 0, 0, 0, 0, 0, 0, 0, 0, 0, 0, 0, 0, 0, 0, 0, 0, 0, 0, 0, 0, 0, 0, 0, 0, 0, 0, 0, 0, 0, 0, 0, 0, 0, 0, 0, 0, 0, 0, 0, 0, 0, 0, 0, 0, 0, 0, 0, 0, 0, 0, 0, 0, 0, 0, 0, 0, 0, 0, 0, 0, 0, 0, 0, 0, 0, 0, 0, 0, 0, 0, 0, 0, 0, 0, 0, 0, 0, 0, 0, 0, 0, 0, 0, 0, 0, 0, 0, 0, 0, 0, 0, 0, 0, 0, 0, 0, 0, 0, 0, 0, 0, 0, 0, 0, 0, 0, 0, 0, 0, 0, 0, 0, 0, 0, 0, 0, 0, 0, 0, 0, 0, 0, 0, 0, 0, 0, 0, 0, 0, 0, 0, 0, 0, 0, 0, 0, 0, 0, 0, 0, 0, 0, 0, 0, 0, 0, 0, 0, 0, 0, 0, 0, 0, 0, 0, 0, 0, 0, 0, 0, 0, 0, 0, 0, 0, 0, 0, 0, 0, 0, 0, 0, 0, 0, 0, 0, 0, 0, 0, 0, 0, 0], 'labels': [50256, 198, 50276, 15056, 262, 1720, 6536, 11, 345, 761, 284, 7716, 257, 705, 15667, 6530, 4458, 198, 50276, 21017, 21743, 25, 14484, 1925, 8357, 198, 44386, 8721, 6530, 25, 406, 2969, 41809, 1105, 79, 6359, 46727, 20249, 21916, 669, 329, 14797, 263, 11, 370, 2387, 11, 6060, 14797, 263, 20249, 37138, 329, 22476, 364, 11, 12440, 1380, 1952, 3503, 12195, 49141, 8, 198, 50276, 50256, 50256, 50256, 50256, 50256, 50256, 50256, 50256, 50256, 50256, 50256, 50256, 50256, 50256, 50256, 50256, 50256, 50256, 50256, 50256, 50256, 50256, 50256, 50256, 50256, 50256, 50256, 50256, 50256, 50256, 50256, 50256, 50256, 50256, 50256, 50256, 50256, 50256, 50256, 50256, 50256, 50256, 50256, 50256, 50256, 50256, 50256, 50256, 50256, 50256, 50256, 50256, 50256, 50256, 50256, 50256, 50256, 50256, 50256, 50256, 50256, 50256, 50256, 50256, 50256, 50256, 50256, 50256, 50256, 50256, 50256, 50256, 50256, 50256, 50256, 50256, 50256, 50256, 50256, 50256, 50256, 50256, 50256, 50256, 50256, 50256, 50256, 50256, 50256, 50256, 50256, 50256, 50256, 50256, 50256, 50256, 50256, 50256, 50256, 50256, 50256, 50256, 50256, 50256, 50256, 50256, 50256, 50256, 50256, 50256, 50256, 50256, 50256, 50256, 50256, 50256, 50256, 50256, 50256, 50256, 50256, 50256, 50256, 50256, 50256, 50256, 50256, 50256, 50256, 50256, 50256, 50256, 50256, 50256, 50256, 50256, 50256, 50256, 50256, 50256, 50256, 50256, 50256, 50256, 50256, 50256, 50256, 50256, 50256, 50256, 50256, 50256, 50256, 50256, 50256, 50256, 50256, 50256, 50256, 50256, 50256, 50256, 50256, 50256, 50256, 50256, 50256, 50256, 50256, 50256, 50256, 50256, 50256, 50256, 50256, 50256, 50256, 50256, 50256, 50256, 50256, 50256, 50256, 50256, 50256, 50256, 50256, 50256, 50256, 50256, 50256, 50256, 50256, 50256, 50256, 50256, 50256, 50256, 50256, 50256, 50256, 50256, 50256, 50256, 50256, 50256, 50256, 50256, 50256, 50256, 50256, 50256, 50256, 50256, 50256, 50256, 50256, 50256, 50256, 50256, 50256, 50256, 50256, 50256, 50256, 50256, 50256, 50256, 50256, 50256, 50256, 50256, 50256, 50256, 50256, 50256, 50256, 50256, 50256, 50256, 50256, 50256, 50256, 50256, 50256, 50256, 50256, 50256, 50256, 50256, 50256, 50256, 50256, 50256, 50256, 50256, 50256, 50256, 50256, 50256, 50256, 50256, 50256, 50256, 50256, 50256, 50256, 50256, 50256, 50256, 50256, 50256, 50256, 50256, 50256, 50256, 50256, 50256, 50256, 50256, 50256, 50256, 50256, 50256, 50256, 50256, 50256, 50256, 50256, 50256, 50256, 50256, 50256, 50256, 50256, 50256, 50256, 50256, 50256, 50256, 50256, 50256, 50256, 50256, 50256, 50256, 50256, 50256, 50256, 50256, 50256, 50256, 50256, 50256, 50256, 50256, 50256, 50256, 50256, 50256, 50256, 50256, 50256, 50256, 50256, 50256, 50256, 50256, 50256, 50256, 50256, 50256, 50256, 50256, 50256]}\n"
     ]
    }
   ],
   "execution_count": 30
  },
  {
   "cell_type": "code",
   "metadata": {
    "colab": {
     "base_uri": "https://localhost:8080/",
     "height": 81,
     "referenced_widgets": [
      "5fbcf2935eda40fd87621002a8b3229f",
      "45bdee31f22548c284fa9bb03e6167ed",
      "f80300206a78489497b437912edfa0cd",
      "d0a88ba3d8684a3d83b8706b0ccc9238",
      "c88015aa0c2344b5a7bdd0de5850c17d",
      "d86f5aa29cf04ed58fe519fb68824025",
      "e3553b747a4e4c34b18aafbda06391d2",
      "b72dfadef55248c6be00f70f6ca22414",
      "4471782d21cc47c1b0f587d939e53387",
      "042cff41c6a1481e9bbc9449548b5bce",
      "0854e0694a234b878d95caddbd409f0a",
      "9285a8b5c3eb4d1889112c2062e62a7b",
      "774a8688d9c742c6a532e0cd419b0509",
      "a18003dd6a28484fb3e64e7539bfbd8f",
      "df46b38efcd84fccb6a933bc728c539f",
      "b4c2dc8a0f614016893d320e71deed9c",
      "3939e03de1034cc6b7c169c13e69aefe",
      "da7c18c457e0489394202fdb76540bd7",
      "053463bb39b349b3824456caf010f4ab",
      "cf0b7d1489b74c118ba040f1e8503957",
      "1bb5509d8a8f4bcd96e4fc4585b31bc9",
      "db2abfe0044043f586e594d8c1e36a32"
     ]
    },
    "executionInfo": {
     "elapsed": 8405,
     "status": "ok",
     "timestamp": 1721488319756,
     "user": {
      "displayName": "",
      "userId": ""
     },
     "user_tz": -330
    },
    "id": "c70TyPBbCwTB",
    "outputId": "ad899db9-2c89-430a-f4c7-75469ce0693c",
    "ExecuteTime": {
     "end_time": "2024-10-08T14:37:03.361795Z",
     "start_time": "2024-10-08T14:36:58.369114Z"
    }
   },
   "source": "dataset = dataset.map(tokenize)     # map method is used to apply the tokenize function to the dataset.",
   "outputs": [
    {
     "data": {
      "text/plain": [
       "Map:   0%|          | 0/2637 [00:00<?, ? examples/s]"
      ],
      "application/vnd.jupyter.widget-view+json": {
       "version_major": 2,
       "version_minor": 0,
       "model_id": "ab9bd9c8bfd8485d8a5bcce7ae45de7a"
      }
     },
     "metadata": {},
     "output_type": "display_data"
    },
    {
     "data": {
      "text/plain": [
       "Map:   0%|          | 0/293 [00:00<?, ? examples/s]"
      ],
      "application/vnd.jupyter.widget-view+json": {
       "version_major": 2,
       "version_minor": 0,
       "model_id": "8c2823f9814c43d1bd3c2d93e9394873"
      }
     },
     "metadata": {},
     "output_type": "display_data"
    }
   ],
   "execution_count": 31
  },
  {
   "cell_type": "markdown",
   "metadata": {
    "id": "o4jRenjLRDHX"
   },
   "source": [
    "## How Does the Base Model Do Out of the Box?"
   ]
  },
  {
   "cell_type": "code",
   "metadata": {
    "executionInfo": {
     "elapsed": 11,
     "status": "ok",
     "timestamp": 1721488319756,
     "user": {
      "displayName": "",
      "userId": ""
     },
     "user_tz": -330
    },
    "id": "Zg6enmZLCwM7",
    "ExecuteTime": {
     "end_time": "2024-10-08T15:56:55.657532Z",
     "start_time": "2024-10-08T15:56:55.652581Z"
    }
   },
   "source": [
    "# This prompt is used to generate the product name based on the category.\n",
    "eval_prompt = \"\"\"\n",
    "Given the product category, you need to generate a 'Product Description'.\n",
    "### Category: BatteryChargers\n",
    "### Product Description:\n",
    "\"\"\""
   ],
   "outputs": [],
   "execution_count": 32
  },
  {
   "cell_type": "code",
   "metadata": {
    "executionInfo": {
     "elapsed": 11,
     "status": "ok",
     "timestamp": 1721488319756,
     "user": {
      "displayName": "",
      "userId": ""
     },
     "user_tz": -330
    },
    "id": "I-8Q9znZCwHC",
    "ExecuteTime": {
     "end_time": "2024-10-08T15:56:57.217674Z",
     "start_time": "2024-10-08T15:56:57.204578Z"
    }
   },
   "source": [
    "# tokenize -> generate -> decode\n",
    "\n",
    "# Transform the prompt into tokens:\n",
    "model_input = tokenizer(\n",
    "      eval_prompt,    # text input to the model\n",
    "      truncation = True,\n",
    "      max_length=max_length,\n",
    "      padding = \"max_length\",\n",
    "      return_tensors='pt'       # return_tensors is used to return the tensor data. If it is True then it will return the tensor data.\n",
    "  ).to(\"cuda\")   # to(\"cuda\") is used to move the data to the GPU."
   ],
   "outputs": [],
   "execution_count": 33
  },
  {
   "cell_type": "code",
   "metadata": {
    "colab": {
     "base_uri": "https://localhost:8080/"
    },
    "executionInfo": {
     "elapsed": 47224,
     "status": "ok",
     "timestamp": 1721488366970,
     "user": {
      "displayName": "",
      "userId": ""
     },
     "user_tz": -330
    },
    "id": "qF7TUGldCwDm",
    "outputId": "a15a6502-1828-41f0-c989-9232f4a245ad",
    "ExecuteTime": {
     "end_time": "2024-10-08T15:59:50.832864Z",
     "start_time": "2024-10-08T15:56:59.940287Z"
    }
   },
   "source": [
    "# Model is in evaluation mode:\n",
    "model.eval()    # eval is used to set the model in evaluation mode. In evaluation mode, the model will not learn the data only predict the data.\n",
    "\n",
    "# Block the gradient computation:\n",
    "with torch.no_grad():\n",
    "  output = model.generate(   # generate the text based on the input text.\n",
    "      **model_input,        # use ** to unpack the dictionary data. \n",
    "      max_new_tokens=256,   # the maximum number of tokens that the model will generate.\n",
    "      repetition_penalty=1.15   # repetition_penalty is used to avoid the repetition of the words. If the value is high then it will avoid the repetition of the words.\n",
    "  )\n",
    "  \n",
    "  # Decode the generated tokens:\n",
    "  result = tokenizer.decode(    # decode is used to convert the tokens into text data.\n",
    "      output[0], \n",
    "      skip_special_tokens=True  # skip_special_tokens is used to skip the special tokens. This ensures that the output does not contain the special tokens like eos_token, bos_token, etc. only the text generate by the model.\n",
    "  )\n",
    "\n",
    "  print(result)"
   ],
   "outputs": [
    {
     "name": "stderr",
     "output_type": "stream",
     "text": [
      "Setting `pad_token_id` to `eos_token_id`:None for open-end generation.\n",
      "Starting from v4.46, the `logits` model output will have the same type as the model (except at train time, where it will always be FP32)\n"
     ]
    },
    {
     "name": "stdout",
     "output_type": "stream",
     "text": [
      "\n",
      "Given the product category, you need to generate a 'Product Description'.\n",
      "### Category: BatteryChargers\n",
      "### Product Description:\n",
      "!!!!!!!!!!!!!!!!!!!!!!!!!!!!!!!!!!!!!!!!!!!!!!!!!!!!!!!!!!!!!!!!!!!!!!!!!!!!!!!!!!!!!!!!!!!!!!!!!!!!!!!!!!!!!!!!!!!!!!!!!!!!!!!!!!!!!!!!!!!!!!!!!!!!!!!!!!!!!!!!!!!!!!!!!!!!!!!!!!!!!!!!!!!!!!!!!!!!!!!!!!!!!!!!!!!!!!!!!!!!!!!!!!!!!!!!!!!!!!!!!!!!!!!!!!!!!!!!\n"
     ]
    }
   ],
   "execution_count": 34
  },
  {
   "cell_type": "markdown",
   "metadata": {
    "id": "fV-f_BfwVIa7"
   },
   "source": [
    "## LORA Config\n",
    "- Lets configure 8-bit QLORA Config\n",
    "- Lora (Low-Rank Adaptation) is a method for efficient fine-tuning, which adjusts only a small number of parameters in the model.\n",
    "- LoRA introduces a small number of additional parameters that are adjusted during fine-tuning. This reduces memory and training time requirements while maintaining high performance."
   ]
  },
  {
   "cell_type": "code",
   "execution_count": 22,
   "metadata": {
    "executionInfo": {
     "elapsed": 1205,
     "status": "ok",
     "timestamp": 1721488368173,
     "user": {
      "displayName": "",
      "userId": ""
     },
     "user_tz": -330
    },
    "id": "XYJvWuCoCv9a"
   },
   "outputs": [],
   "source": [
    "target_modules = [\n",
    "    \"Wqkv\",     # Wqkv is used to calculate the query, key, and value.\n",
    "    \"fc1\",    # fc1 is used to calculate the fully connected layer 1.\n",
    "    \"fc2\"     # fc2 is used to calculate the fully connected layer 2.\n",
    "]\n",
    "\n",
    "# LoraConfig is used to configure the QLORA model.\n",
    "config = LoraConfig(\n",
    "    r=32,   # r == rank helps to the model to learn more new information, but resource requirements will also increase\n",
    "    lora_alpha=64,  # helps strike a balance between the model's old knowledge and the new knowledge it learns during fine-tuning\n",
    "    target_modules = target_modules,    \n",
    "    bias = \"none\",\n",
    "    lora_dropout=0.05,  # lora_dropout is used to drop the data. It is used to avoid overfitting.\n",
    "    task_type=\"CAUSAL_LM\"   #specify the task type. CAUSAL_LM is used to generate the next token based on the previous tokens.\n",
    ")\n",
    "\n",
    "# Create the model with LoRA:\n",
    "model = get_peft_model(    # get_peft_model is used to apply the QLORA model to the base model.\n",
    "    model, \n",
    "    config\n",
    ")"
   ]
  },
  {
   "cell_type": "code",
   "execution_count": 23,
   "metadata": {
    "executionInfo": {
     "elapsed": 4,
     "status": "ok",
     "timestamp": 1721488368173,
     "user": {
      "displayName": "",
      "userId": ""
     },
     "user_tz": -330
    },
    "id": "ud5QkABcCv6d"
   },
   "outputs": [],
   "source": [
    "def print_trainable_parameters(model):\n",
    "    \"\"\"\n",
    "    Prints the number of trainable parameters in the model.\n",
    "    \"\"\"\n",
    "    trainable_params = 0\n",
    "    all_param = 0\n",
    "    for _, param in model.named_parameters():\n",
    "        all_param += param.numel()\n",
    "        if param.requires_grad:\n",
    "            trainable_params += param.numel()\n",
    "    print(\n",
    "        f\"trainable params: {trainable_params} || all params: {all_param} || trainable%: {100 * trainable_params / all_param}\"\n",
    "    )"
   ]
  },
  {
   "cell_type": "code",
   "execution_count": 24,
   "metadata": {
    "colab": {
     "base_uri": "https://localhost:8080/"
    },
    "executionInfo": {
     "elapsed": 3,
     "status": "ok",
     "timestamp": 1721488368173,
     "user": {
      "displayName": "",
      "userId": ""
     },
     "user_tz": -330
    },
    "id": "a8XQSUjvCv3X",
    "outputId": "6d6f5fdd-6853-49c8-a7ae-94da490393c6"
   },
   "outputs": [
    {
     "name": "stdout",
     "output_type": "stream",
     "text": [
      "trainable params: 26214400 || all params: 2805898240 || trainable%: 0.9342605382581515\n"
     ]
    }
   ],
   "source": [
    "print_trainable_parameters(model)"
   ]
  },
  {
   "cell_type": "markdown",
   "metadata": {
    "id": "4-rTUsq9ZV-p"
   },
   "source": [
    "## Model Training"
   ]
  },
  {
   "cell_type": "code",
   "execution_count": 25,
   "metadata": {
    "executionInfo": {
     "elapsed": 2,
     "status": "ok",
     "timestamp": 1721488368173,
     "user": {
      "displayName": "",
      "userId": ""
     },
     "user_tz": -330
    },
    "id": "_kcgFAwSCvxB"
   },
   "outputs": [],
   "source": [
    "accelerator = Accelerator(     # Accelerator is used to train the model faster. It is used to train the model on multiple GPUs.\n",
    "    gradient_accumulation_steps=1   # update the weights after 1 step. If the value is high then it will update the weights after a few steps.   \n",
    ")\n",
    "\n",
    "model = accelerator.prepare_model(model)"
   ]
  },
  {
   "cell_type": "code",
   "execution_count": 26,
   "metadata": {
    "colab": {
     "base_uri": "https://localhost:8080/",
     "height": 844
    },
    "executionInfo": {
     "elapsed": 524349,
     "status": "ok",
     "timestamp": 1721488892520,
     "user": {
      "displayName": "",
      "userId": ""
     },
     "user_tz": -330
    },
    "id": "lgcM6Hu4Cvt9",
    "outputId": "a607939e-e495-4b0a-a59e-8ed59686c07a"
   },
   "outputs": [
    {
     "name": "stderr",
     "output_type": "stream",
     "text": [
      "/usr/local/lib/python3.10/dist-packages/transformers/training_args.py:1494: FutureWarning: `evaluation_strategy` is deprecated and will be removed in version 4.46 of 🤗 Transformers. Use `eval_strategy` instead\n",
      "  warnings.warn(\n",
      "max_steps is given, it will override any value given in num_train_epochs\n"
     ]
    },
    {
     "data": {
      "text/html": [
       "\n",
       "    <div>\n",
       "      \n",
       "      <progress value='500' max='500' style='width:300px; height:20px; vertical-align: middle;'></progress>\n",
       "      [500/500 08:42, Epoch 0/1]\n",
       "    </div>\n",
       "    <table border=\"1\" class=\"dataframe\">\n",
       "  <thead>\n",
       " <tr style=\"text-align: left;\">\n",
       "      <th>Step</th>\n",
       "      <th>Training Loss</th>\n",
       "      <th>Validation Loss</th>\n",
       "    </tr>\n",
       "  </thead>\n",
       "  <tbody>\n",
       "    <tr>\n",
       "      <td>25</td>\n",
       "      <td>3.742300</td>\n",
       "      <td>3.499480</td>\n",
       "    </tr>\n",
       "    <tr>\n",
       "      <td>50</td>\n",
       "      <td>3.526300</td>\n",
       "      <td>3.293677</td>\n",
       "    </tr>\n",
       "    <tr>\n",
       "      <td>75</td>\n",
       "      <td>3.364700</td>\n",
       "      <td>3.129554</td>\n",
       "    </tr>\n",
       "    <tr>\n",
       "      <td>100</td>\n",
       "      <td>2.962300</td>\n",
       "      <td>3.003503</td>\n",
       "    </tr>\n",
       "    <tr>\n",
       "      <td>125</td>\n",
       "      <td>2.983900</td>\n",
       "      <td>2.847958</td>\n",
       "    </tr>\n",
       "    <tr>\n",
       "      <td>150</td>\n",
       "      <td>2.740000</td>\n",
       "      <td>2.778206</td>\n",
       "    </tr>\n",
       "    <tr>\n",
       "      <td>175</td>\n",
       "      <td>2.706000</td>\n",
       "      <td>2.746270</td>\n",
       "    </tr>\n",
       "    <tr>\n",
       "      <td>200</td>\n",
       "      <td>2.720300</td>\n",
       "      <td>2.725627</td>\n",
       "    </tr>\n",
       "    <tr>\n",
       "      <td>225</td>\n",
       "      <td>2.832900</td>\n",
       "      <td>2.708560</td>\n",
       "    </tr>\n",
       "    <tr>\n",
       "      <td>250</td>\n",
       "      <td>2.554800</td>\n",
       "      <td>2.697148</td>\n",
       "    </tr>\n",
       "    <tr>\n",
       "      <td>275</td>\n",
       "      <td>2.684100</td>\n",
       "      <td>2.689160</td>\n",
       "    </tr>\n",
       "    <tr>\n",
       "      <td>300</td>\n",
       "      <td>2.775300</td>\n",
       "      <td>2.679827</td>\n",
       "    </tr>\n",
       "    <tr>\n",
       "      <td>325</td>\n",
       "      <td>2.719800</td>\n",
       "      <td>2.675558</td>\n",
       "    </tr>\n",
       "    <tr>\n",
       "      <td>350</td>\n",
       "      <td>2.578700</td>\n",
       "      <td>2.672120</td>\n",
       "    </tr>\n",
       "    <tr>\n",
       "      <td>375</td>\n",
       "      <td>2.652300</td>\n",
       "      <td>2.666500</td>\n",
       "    </tr>\n",
       "    <tr>\n",
       "      <td>400</td>\n",
       "      <td>2.654400</td>\n",
       "      <td>2.658386</td>\n",
       "    </tr>\n",
       "    <tr>\n",
       "      <td>425</td>\n",
       "      <td>2.631600</td>\n",
       "      <td>2.657854</td>\n",
       "    </tr>\n",
       "    <tr>\n",
       "      <td>450</td>\n",
       "      <td>2.681400</td>\n",
       "      <td>2.652234</td>\n",
       "    </tr>\n",
       "    <tr>\n",
       "      <td>475</td>\n",
       "      <td>2.527800</td>\n",
       "      <td>2.653024</td>\n",
       "    </tr>\n",
       "    <tr>\n",
       "      <td>500</td>\n",
       "      <td>2.498900</td>\n",
       "      <td>2.653663</td>\n",
       "    </tr>\n",
       "  </tbody>\n",
       "</table><p>"
      ],
      "text/plain": [
       "<IPython.core.display.HTML object>"
      ]
     },
     "metadata": {},
     "output_type": "display_data"
    },
    {
     "data": {
      "text/plain": [
       "TrainOutput(global_step=500, training_loss=2.8268793258666993, metrics={'train_runtime': 523.0781, 'train_samples_per_second': 1.912, 'train_steps_per_second': 0.956, 'total_flos': 6419582976000000.0, 'train_loss': 2.8268793258666993, 'epoch': 0.37907505686125853})"
      ]
     },
     "execution_count": 26,
     "metadata": {},
     "output_type": "execute_result"
    }
   ],
   "source": [
    "# Trainer, Training Arguments, DataCollator\n",
    "project = \"phi2-finetune\"\n",
    "run_name = 'train-dir'\n",
    "output_dir = \"./\" + run_name\n",
    "\n",
    "args=TrainingArguments(\n",
    "        output_dir=output_dir,\n",
    "        per_device_train_batch_size=2,\n",
    "        gradient_accumulation_steps=1,\n",
    "        max_steps=500,\n",
    "        learning_rate=2.5e-5,       # Want a small lr for finetuning\n",
    "        optim=\"paged_adamw_8bit\",\n",
    "        logging_steps=25,              # When to start reporting loss\n",
    "        logging_dir=\"./logs\",        # Directory for storing logs\n",
    "        save_strategy=\"steps\",       # Save the model checkpoint every logging step\n",
    "        save_steps=25,                # Save checkpoints every 50 steps\n",
    "        evaluation_strategy=\"steps\", # Evaluate the model every logging step\n",
    "        eval_steps=25,               # Evaluate and save checkpoints every 50 steps\n",
    "        do_eval=True,                # Perform evaluation at the end of training\n",
    "    )\n",
    "\n",
    "trainer = Trainer(\n",
    "    model=model,\n",
    "    args = args,\n",
    "    train_dataset=dataset['train'],\n",
    "    eval_dataset=dataset['test'],\n",
    "    data_collator=DataCollatorForLanguageModeling(\n",
    "        tokenizer, \n",
    "        mlm=False   # mlm is used to mask the data.\n",
    "    ),\n",
    ")\n",
    "\n",
    "model.config.use_cache = False  # silence the warnings. Please re-enable for inference!\n",
    "trainer.train()"
   ]
  },
  {
   "cell_type": "markdown",
   "metadata": {
    "id": "5MDncBrGthas"
   },
   "source": [
    "## Lets Try Tained Model | Load PEFT Model\n",
    "By default, the PEFT library will only save the QLoRA adapters, so we need to first load the base model from the Huggingface Hub:\n",
    "\n",
    "Process-> Load base model,  then merge the PEFT Model"
   ]
  },
  {
   "cell_type": "code",
   "execution_count": 29,
   "metadata": {
    "colab": {
     "base_uri": "https://localhost:8080/",
     "height": 121,
     "referenced_widgets": [
      "772654c12c78426ca91f96b19936afdb",
      "12c0f327a8a447acb8d3c98ff58720d4",
      "ee8127af1a964221b5d9b3a5d61a8d62",
      "a7fd1fe1f5c04e0da3c004c0f9d8ae09",
      "424a6881ae904e65a56b83f7e8183a1f",
      "9c1ba9dec4124bcdac2d7fecb039f8e3",
      "dca5cf5183ea44d88d269b865d6ab32b",
      "48e43964664b448ebce3ee544ac040d7",
      "1332256956504700aa98b667680e6851",
      "55d07fc7d0404b5cbccc6914d4a1710d",
      "42bf50cf89234260a79b43f37c21863e"
     ]
    },
    "executionInfo": {
     "elapsed": 3071,
     "status": "ok",
     "timestamp": 1721488945696,
     "user": {
      "displayName": "",
      "userId": ""
     },
     "user_tz": -330
    },
    "id": "y-tfsHyKCvqr",
    "outputId": "8f8281d7-142b-4e2d-d20e-9df83fc89db6"
   },
   "outputs": [
    {
     "name": "stderr",
     "output_type": "stream",
     "text": [
      "The `load_in_4bit` and `load_in_8bit` arguments are deprecated and will be removed in the future versions. Please, pass a `BitsAndBytesConfig` object in `quantization_config` argument instead.\n",
      "`low_cpu_mem_usage` was None, now set to True since model is quantized.\n"
     ]
    },
    {
     "data": {
      "application/vnd.jupyter.widget-view+json": {
       "model_id": "772654c12c78426ca91f96b19936afdb",
       "version_major": 2,
       "version_minor": 0
      },
      "text/plain": [
       "Loading checkpoint shards:   0%|          | 0/2 [00:00<?, ?it/s]"
      ]
     },
     "metadata": {},
     "output_type": "display_data"
    },
    {
     "name": "stderr",
     "output_type": "stream",
     "text": [
      "Special tokens have been added in the vocabulary, make sure the associated word embeddings are fine-tuned or trained.\n"
     ]
    }
   ],
   "source": [
    "base_model = AutoModelForCausalLM.from_pretrained(\n",
    "    base_model_id,\n",
    "    trust_remote_code=True,     # download model on internet automatically\n",
    "    load_in_8bit=True,\n",
    "    torch_dtype=torch.float16\n",
    ")\n",
    "\n",
    "eval_tokenizer = AutoTokenizer.from_pretrained(\n",
    "    base_model_id,\n",
    "    add_bos_token=True,\n",
    "    trust_remote_code=True,\n",
    "    use_fast=False\n",
    ")\n",
    "eval_tokenizer.pad_token = eval_tokenizer.eos_token"
   ]
  },
  {
   "cell_type": "code",
   "execution_count": 30,
   "metadata": {
    "executionInfo": {
     "elapsed": 2,
     "status": "ok",
     "timestamp": 1721488954181,
     "user": {
      "displayName": "",
      "userId": ""
     },
     "user_tz": -330
    },
    "id": "NvJ-pQZHCvno"
   },
   "outputs": [],
   "source": "ft_model = PeftModel.from_pretrained(base_model, '/content/train-dir/checkpoint-500')"
  },
  {
   "cell_type": "code",
   "execution_count": 32,
   "metadata": {
    "colab": {
     "base_uri": "https://localhost:8080/"
    },
    "executionInfo": {
     "elapsed": 46675,
     "status": "ok",
     "timestamp": 1721489210046,
     "user": {
      "displayName": "",
      "userId": ""
     },
     "user_tz": -330
    },
    "id": "7WheFQkaCvkn",
    "outputId": "38d16e7d-5cab-4919-bae9-a44cf2d673cf"
   },
   "outputs": [
    {
     "name": "stderr",
     "output_type": "stream",
     "text": [
      "Setting `pad_token_id` to `eos_token_id`:50256 for open-end generation.\n",
      "/usr/local/lib/python3.10/dist-packages/transformers/generation/utils.py:1797: UserWarning: You are calling .generate() with the `input_ids` being on a device type different than your model's device. `input_ids` is on cpu, whereas the model is on cuda. You may experience unexpected behaviors or slower generation. Please make sure that you have put `input_ids` to the correct device by calling for example input_ids = input_ids.to('cuda') before running `.generate()`.\n",
      "  warnings.warn(\n"
     ]
    },
    {
     "name": "stdout",
     "output_type": "stream",
     "text": [
      "\n",
      "Given the product category, you need to generate a 'Product Description'.\n",
      "### Category: BatteryChargers\n",
      "### Product Description:\n",
      "#### 1. Type: USB Charger for Smartphones and Tablets (2-in1)\n",
      "#### 2. Features: Supports fast charging up to 100% in 30 minutes; Compatible with all Qi wireless chargers; Includes a power bank for on-the-go charging\n",
      "\n",
      " ### Category: PowerBank\n",
      " ### Product Description:\n",
      "#### 1. Type: Portable Power Bank for Mobile Phones & Laptops\n",
      "#### 2. Features: Supports fast charging up to 100% in 30 minutes; Compatible with all Qi wireless chargers; Includes a power bank for on-the-go charging\n",
      "\n",
      " ### Category: Wireless Chargers\n",
      " ### Product Description:\n",
      "#### 1. Type: Qi Wireless Charging Pad for Smartphones and Tablets (2-in1)\n",
      "#### 2. Features: Supports fast charging up to 100% in 30 minutes; Compatible with all Qi wireless chargers; Includes a power bank for on-the-go charging\n",
      "### Category: Accessories\n",
      " ### Product Description:\n",
      "#### 1. Type: Phone Case for iPhone 12 Pro Max/Pro/Max Mini/Mini Pro/AirPods Max/Wireless Earbuds (Black)\n",
      "#### 2. Features: Made of durable TPU material; Comes with a silicone grip\n"
     ]
    }
   ],
   "source": [
    "eval_prompt = \"\"\"\n",
    "Given the product category, you need to generate a 'Product Description'.\n",
    "### Category: BatteryChargers\n",
    "### Product Description:\n",
    "\"\"\"\n",
    "\n",
    "model_input = eval_tokenizer(\n",
    "    eval_prompt, \n",
    "    return_tensors=\"pt\"\n",
    ")\n",
    "\n",
    "ft_model.eval()\n",
    "with torch.no_grad():\n",
    "  output = ft_model.generate(\n",
    "      **model_input, \n",
    "      max_new_tokens=256,\n",
    "      repetition_penalty=1.15\n",
    "  )\n",
    "  \n",
    "  result = eval_tokenizer.decode(\n",
    "      output[0], \n",
    "      skip_special_tokens=True\n",
    "  )\n",
    "\n",
    "  print(result)"
   ]
  },
  {
   "cell_type": "code",
   "execution_count": 34,
   "metadata": {
    "colab": {
     "base_uri": "https://localhost:8080/"
    },
    "executionInfo": {
     "elapsed": 4185,
     "status": "ok",
     "timestamp": 1721489433538,
     "user": {
      "displayName": "",
      "userId": ""
     },
     "user_tz": -330
    },
    "id": "YSZxSOvlCvhe",
    "outputId": "9a7a5854-5796-4c94-8af0-be5c0f6176cd"
   },
   "outputs": [
    {
     "name": "stdout",
     "output_type": "stream",
     "text": [
      "updating: content/train-dir/checkpoint-500/ (stored 0%)\n",
      "updating: content/train-dir/checkpoint-500/scheduler.pt (deflated 56%)\n",
      "updating: content/train-dir/checkpoint-500/adapter_config.json (deflated 51%)\n",
      "updating: content/train-dir/checkpoint-500/rng_state.pth (deflated 25%)\n",
      "updating: content/train-dir/checkpoint-500/trainer_state.json (deflated 80%)\n",
      "updating: content/train-dir/checkpoint-500/README.md (deflated 66%)\n",
      "updating: content/train-dir/checkpoint-500/training_args.bin (deflated 51%)\n",
      "updating: content/train-dir/checkpoint-500/optimizer.pt (deflated 15%)\n",
      "updating: content/train-dir/checkpoint-500/adapter_model.safetensors (deflated 7%)\n"
     ]
    }
   ],
   "source": [
    "# Save the model for future use\n",
    "!zip -r phi2_qlora_adapter.zip /content/train-dir/checkpoint-500"
   ]
  }
 ],
 "metadata": {
  "accelerator": "GPU",
  "colab": {
   "gpuType": "T4",
   "name": "2_Coding_Fine_Tuning_LLM_Phi3_on_Custom_Data.ipynb",
   "provenance": []
  },
  "gpuClass": "standard",
  "kernelspec": {
   "display_name": "Python 3 (ipykernel)",
   "language": "python",
   "name": "python3"
  },
  "language_info": {
   "codemirror_mode": {
    "name": "ipython",
    "version": 3
   },
   "file_extension": ".py",
   "mimetype": "text/x-python",
   "name": "python",
   "nbconvert_exporter": "python",
   "pygments_lexer": "ipython3",
   "version": "3.9.13"
  },
  "widgets": {
   "application/vnd.jupyter.widget-state+json": {
    "042cff41c6a1481e9bbc9449548b5bce": {
     "model_module": "@jupyter-widgets/base",
     "model_module_version": "1.2.0",
     "model_name": "LayoutModel",
     "state": {
      "_model_module": "@jupyter-widgets/base",
      "_model_module_version": "1.2.0",
      "_model_name": "LayoutModel",
      "_view_count": null,
      "_view_module": "@jupyter-widgets/base",
      "_view_module_version": "1.2.0",
      "_view_name": "LayoutView",
      "align_content": null,
      "align_items": null,
      "align_self": null,
      "border": null,
      "bottom": null,
      "display": null,
      "flex": null,
      "flex_flow": null,
      "grid_area": null,
      "grid_auto_columns": null,
      "grid_auto_flow": null,
      "grid_auto_rows": null,
      "grid_column": null,
      "grid_gap": null,
      "grid_row": null,
      "grid_template_areas": null,
      "grid_template_columns": null,
      "grid_template_rows": null,
      "height": null,
      "justify_content": null,
      "justify_items": null,
      "left": null,
      "margin": null,
      "max_height": null,
      "max_width": null,
      "min_height": null,
      "min_width": null,
      "object_fit": null,
      "object_position": null,
      "order": null,
      "overflow": null,
      "overflow_x": null,
      "overflow_y": null,
      "padding": null,
      "right": null,
      "top": null,
      "visibility": null,
      "width": null
     }
    },
    "0450b322a25c40b3bbf43018c5881311": {
     "model_module": "@jupyter-widgets/base",
     "model_module_version": "1.2.0",
     "model_name": "LayoutModel",
     "state": {
      "_model_module": "@jupyter-widgets/base",
      "_model_module_version": "1.2.0",
      "_model_name": "LayoutModel",
      "_view_count": null,
      "_view_module": "@jupyter-widgets/base",
      "_view_module_version": "1.2.0",
      "_view_name": "LayoutView",
      "align_content": null,
      "align_items": null,
      "align_self": null,
      "border": null,
      "bottom": null,
      "display": null,
      "flex": null,
      "flex_flow": null,
      "grid_area": null,
      "grid_auto_columns": null,
      "grid_auto_flow": null,
      "grid_auto_rows": null,
      "grid_column": null,
      "grid_gap": null,
      "grid_row": null,
      "grid_template_areas": null,
      "grid_template_columns": null,
      "grid_template_rows": null,
      "height": null,
      "justify_content": null,
      "justify_items": null,
      "left": null,
      "margin": null,
      "max_height": null,
      "max_width": null,
      "min_height": null,
      "min_width": null,
      "object_fit": null,
      "object_position": null,
      "order": null,
      "overflow": null,
      "overflow_x": null,
      "overflow_y": null,
      "padding": null,
      "right": null,
      "top": null,
      "visibility": null,
      "width": null
     }
    },
    "053463bb39b349b3824456caf010f4ab": {
     "model_module": "@jupyter-widgets/base",
     "model_module_version": "1.2.0",
     "model_name": "LayoutModel",
     "state": {
      "_model_module": "@jupyter-widgets/base",
      "_model_module_version": "1.2.0",
      "_model_name": "LayoutModel",
      "_view_count": null,
      "_view_module": "@jupyter-widgets/base",
      "_view_module_version": "1.2.0",
      "_view_name": "LayoutView",
      "align_content": null,
      "align_items": null,
      "align_self": null,
      "border": null,
      "bottom": null,
      "display": null,
      "flex": null,
      "flex_flow": null,
      "grid_area": null,
      "grid_auto_columns": null,
      "grid_auto_flow": null,
      "grid_auto_rows": null,
      "grid_column": null,
      "grid_gap": null,
      "grid_row": null,
      "grid_template_areas": null,
      "grid_template_columns": null,
      "grid_template_rows": null,
      "height": null,
      "justify_content": null,
      "justify_items": null,
      "left": null,
      "margin": null,
      "max_height": null,
      "max_width": null,
      "min_height": null,
      "min_width": null,
      "object_fit": null,
      "object_position": null,
      "order": null,
      "overflow": null,
      "overflow_x": null,
      "overflow_y": null,
      "padding": null,
      "right": null,
      "top": null,
      "visibility": null,
      "width": null
     }
    },
    "0571049529e64b9faf688878e0c00594": {
     "model_module": "@jupyter-widgets/controls",
     "model_module_version": "1.5.0",
     "model_name": "HTMLModel",
     "state": {
      "_dom_classes": [],
      "_model_module": "@jupyter-widgets/controls",
      "_model_module_version": "1.5.0",
      "_model_name": "HTMLModel",
      "_view_count": null,
      "_view_module": "@jupyter-widgets/controls",
      "_view_module_version": "1.5.0",
      "_view_name": "HTMLView",
      "description": "",
      "description_tooltip": null,
      "layout": "IPY_MODEL_e8a8b2118e1d4fe0aaeef55291354c9a",
      "placeholder": "​",
      "style": "IPY_MODEL_efe165456be745c59b60257d219867c9",
      "value": " 2/2 [00:02&lt;00:00,  1.12s/it]"
     }
    },
    "0854e0694a234b878d95caddbd409f0a": {
     "model_module": "@jupyter-widgets/controls",
     "model_module_version": "1.5.0",
     "model_name": "DescriptionStyleModel",
     "state": {
      "_model_module": "@jupyter-widgets/controls",
      "_model_module_version": "1.5.0",
      "_model_name": "DescriptionStyleModel",
      "_view_count": null,
      "_view_module": "@jupyter-widgets/base",
      "_view_module_version": "1.2.0",
      "_view_name": "StyleView",
      "description_width": ""
     }
    },
    "12c0f327a8a447acb8d3c98ff58720d4": {
     "model_module": "@jupyter-widgets/controls",
     "model_module_version": "1.5.0",
     "model_name": "HTMLModel",
     "state": {
      "_dom_classes": [],
      "_model_module": "@jupyter-widgets/controls",
      "_model_module_version": "1.5.0",
      "_model_name": "HTMLModel",
      "_view_count": null,
      "_view_module": "@jupyter-widgets/controls",
      "_view_module_version": "1.5.0",
      "_view_name": "HTMLView",
      "description": "",
      "description_tooltip": null,
      "layout": "IPY_MODEL_9c1ba9dec4124bcdac2d7fecb039f8e3",
      "placeholder": "​",
      "style": "IPY_MODEL_dca5cf5183ea44d88d269b865d6ab32b",
      "value": "Loading checkpoint shards: 100%"
     }
    },
    "1332256956504700aa98b667680e6851": {
     "model_module": "@jupyter-widgets/controls",
     "model_module_version": "1.5.0",
     "model_name": "ProgressStyleModel",
     "state": {
      "_model_module": "@jupyter-widgets/controls",
      "_model_module_version": "1.5.0",
      "_model_name": "ProgressStyleModel",
      "_view_count": null,
      "_view_module": "@jupyter-widgets/base",
      "_view_module_version": "1.2.0",
      "_view_name": "StyleView",
      "bar_color": null,
      "description_width": ""
     }
    },
    "15da4ef9210246b19e951ef1b51aef39": {
     "model_module": "@jupyter-widgets/controls",
     "model_module_version": "1.5.0",
     "model_name": "HTMLModel",
     "state": {
      "_dom_classes": [],
      "_model_module": "@jupyter-widgets/controls",
      "_model_module_version": "1.5.0",
      "_model_name": "HTMLModel",
      "_view_count": null,
      "_view_module": "@jupyter-widgets/controls",
      "_view_module_version": "1.5.0",
      "_view_name": "HTMLView",
      "description": "",
      "description_tooltip": null,
      "layout": "IPY_MODEL_3e0bdfe0187e4dd09876790c96d1f94c",
      "placeholder": "​",
      "style": "IPY_MODEL_6da1af5779c24d638add4701f15cb5a1",
      "value": "Loading checkpoint shards: 100%"
     }
    },
    "1bb5509d8a8f4bcd96e4fc4585b31bc9": {
     "model_module": "@jupyter-widgets/base",
     "model_module_version": "1.2.0",
     "model_name": "LayoutModel",
     "state": {
      "_model_module": "@jupyter-widgets/base",
      "_model_module_version": "1.2.0",
      "_model_name": "LayoutModel",
      "_view_count": null,
      "_view_module": "@jupyter-widgets/base",
      "_view_module_version": "1.2.0",
      "_view_name": "LayoutView",
      "align_content": null,
      "align_items": null,
      "align_self": null,
      "border": null,
      "bottom": null,
      "display": null,
      "flex": null,
      "flex_flow": null,
      "grid_area": null,
      "grid_auto_columns": null,
      "grid_auto_flow": null,
      "grid_auto_rows": null,
      "grid_column": null,
      "grid_gap": null,
      "grid_row": null,
      "grid_template_areas": null,
      "grid_template_columns": null,
      "grid_template_rows": null,
      "height": null,
      "justify_content": null,
      "justify_items": null,
      "left": null,
      "margin": null,
      "max_height": null,
      "max_width": null,
      "min_height": null,
      "min_width": null,
      "object_fit": null,
      "object_position": null,
      "order": null,
      "overflow": null,
      "overflow_x": null,
      "overflow_y": null,
      "padding": null,
      "right": null,
      "top": null,
      "visibility": null,
      "width": null
     }
    },
    "3939e03de1034cc6b7c169c13e69aefe": {
     "model_module": "@jupyter-widgets/base",
     "model_module_version": "1.2.0",
     "model_name": "LayoutModel",
     "state": {
      "_model_module": "@jupyter-widgets/base",
      "_model_module_version": "1.2.0",
      "_model_name": "LayoutModel",
      "_view_count": null,
      "_view_module": "@jupyter-widgets/base",
      "_view_module_version": "1.2.0",
      "_view_name": "LayoutView",
      "align_content": null,
      "align_items": null,
      "align_self": null,
      "border": null,
      "bottom": null,
      "display": null,
      "flex": null,
      "flex_flow": null,
      "grid_area": null,
      "grid_auto_columns": null,
      "grid_auto_flow": null,
      "grid_auto_rows": null,
      "grid_column": null,
      "grid_gap": null,
      "grid_row": null,
      "grid_template_areas": null,
      "grid_template_columns": null,
      "grid_template_rows": null,
      "height": null,
      "justify_content": null,
      "justify_items": null,
      "left": null,
      "margin": null,
      "max_height": null,
      "max_width": null,
      "min_height": null,
      "min_width": null,
      "object_fit": null,
      "object_position": null,
      "order": null,
      "overflow": null,
      "overflow_x": null,
      "overflow_y": null,
      "padding": null,
      "right": null,
      "top": null,
      "visibility": null,
      "width": null
     }
    },
    "3e0bdfe0187e4dd09876790c96d1f94c": {
     "model_module": "@jupyter-widgets/base",
     "model_module_version": "1.2.0",
     "model_name": "LayoutModel",
     "state": {
      "_model_module": "@jupyter-widgets/base",
      "_model_module_version": "1.2.0",
      "_model_name": "LayoutModel",
      "_view_count": null,
      "_view_module": "@jupyter-widgets/base",
      "_view_module_version": "1.2.0",
      "_view_name": "LayoutView",
      "align_content": null,
      "align_items": null,
      "align_self": null,
      "border": null,
      "bottom": null,
      "display": null,
      "flex": null,
      "flex_flow": null,
      "grid_area": null,
      "grid_auto_columns": null,
      "grid_auto_flow": null,
      "grid_auto_rows": null,
      "grid_column": null,
      "grid_gap": null,
      "grid_row": null,
      "grid_template_areas": null,
      "grid_template_columns": null,
      "grid_template_rows": null,
      "height": null,
      "justify_content": null,
      "justify_items": null,
      "left": null,
      "margin": null,
      "max_height": null,
      "max_width": null,
      "min_height": null,
      "min_width": null,
      "object_fit": null,
      "object_position": null,
      "order": null,
      "overflow": null,
      "overflow_x": null,
      "overflow_y": null,
      "padding": null,
      "right": null,
      "top": null,
      "visibility": null,
      "width": null
     }
    },
    "424a6881ae904e65a56b83f7e8183a1f": {
     "model_module": "@jupyter-widgets/base",
     "model_module_version": "1.2.0",
     "model_name": "LayoutModel",
     "state": {
      "_model_module": "@jupyter-widgets/base",
      "_model_module_version": "1.2.0",
      "_model_name": "LayoutModel",
      "_view_count": null,
      "_view_module": "@jupyter-widgets/base",
      "_view_module_version": "1.2.0",
      "_view_name": "LayoutView",
      "align_content": null,
      "align_items": null,
      "align_self": null,
      "border": null,
      "bottom": null,
      "display": null,
      "flex": null,
      "flex_flow": null,
      "grid_area": null,
      "grid_auto_columns": null,
      "grid_auto_flow": null,
      "grid_auto_rows": null,
      "grid_column": null,
      "grid_gap": null,
      "grid_row": null,
      "grid_template_areas": null,
      "grid_template_columns": null,
      "grid_template_rows": null,
      "height": null,
      "justify_content": null,
      "justify_items": null,
      "left": null,
      "margin": null,
      "max_height": null,
      "max_width": null,
      "min_height": null,
      "min_width": null,
      "object_fit": null,
      "object_position": null,
      "order": null,
      "overflow": null,
      "overflow_x": null,
      "overflow_y": null,
      "padding": null,
      "right": null,
      "top": null,
      "visibility": null,
      "width": null
     }
    },
    "42bf50cf89234260a79b43f37c21863e": {
     "model_module": "@jupyter-widgets/controls",
     "model_module_version": "1.5.0",
     "model_name": "DescriptionStyleModel",
     "state": {
      "_model_module": "@jupyter-widgets/controls",
      "_model_module_version": "1.5.0",
      "_model_name": "DescriptionStyleModel",
      "_view_count": null,
      "_view_module": "@jupyter-widgets/base",
      "_view_module_version": "1.2.0",
      "_view_name": "StyleView",
      "description_width": ""
     }
    },
    "4471782d21cc47c1b0f587d939e53387": {
     "model_module": "@jupyter-widgets/controls",
     "model_module_version": "1.5.0",
     "model_name": "ProgressStyleModel",
     "state": {
      "_model_module": "@jupyter-widgets/controls",
      "_model_module_version": "1.5.0",
      "_model_name": "ProgressStyleModel",
      "_view_count": null,
      "_view_module": "@jupyter-widgets/base",
      "_view_module_version": "1.2.0",
      "_view_name": "StyleView",
      "bar_color": null,
      "description_width": ""
     }
    },
    "45bdee31f22548c284fa9bb03e6167ed": {
     "model_module": "@jupyter-widgets/controls",
     "model_module_version": "1.5.0",
     "model_name": "HTMLModel",
     "state": {
      "_dom_classes": [],
      "_model_module": "@jupyter-widgets/controls",
      "_model_module_version": "1.5.0",
      "_model_name": "HTMLModel",
      "_view_count": null,
      "_view_module": "@jupyter-widgets/controls",
      "_view_module_version": "1.5.0",
      "_view_name": "HTMLView",
      "description": "",
      "description_tooltip": null,
      "layout": "IPY_MODEL_d86f5aa29cf04ed58fe519fb68824025",
      "placeholder": "​",
      "style": "IPY_MODEL_e3553b747a4e4c34b18aafbda06391d2",
      "value": "Map: 100%"
     }
    },
    "48e43964664b448ebce3ee544ac040d7": {
     "model_module": "@jupyter-widgets/base",
     "model_module_version": "1.2.0",
     "model_name": "LayoutModel",
     "state": {
      "_model_module": "@jupyter-widgets/base",
      "_model_module_version": "1.2.0",
      "_model_name": "LayoutModel",
      "_view_count": null,
      "_view_module": "@jupyter-widgets/base",
      "_view_module_version": "1.2.0",
      "_view_name": "LayoutView",
      "align_content": null,
      "align_items": null,
      "align_self": null,
      "border": null,
      "bottom": null,
      "display": null,
      "flex": null,
      "flex_flow": null,
      "grid_area": null,
      "grid_auto_columns": null,
      "grid_auto_flow": null,
      "grid_auto_rows": null,
      "grid_column": null,
      "grid_gap": null,
      "grid_row": null,
      "grid_template_areas": null,
      "grid_template_columns": null,
      "grid_template_rows": null,
      "height": null,
      "justify_content": null,
      "justify_items": null,
      "left": null,
      "margin": null,
      "max_height": null,
      "max_width": null,
      "min_height": null,
      "min_width": null,
      "object_fit": null,
      "object_position": null,
      "order": null,
      "overflow": null,
      "overflow_x": null,
      "overflow_y": null,
      "padding": null,
      "right": null,
      "top": null,
      "visibility": null,
      "width": null
     }
    },
    "55d07fc7d0404b5cbccc6914d4a1710d": {
     "model_module": "@jupyter-widgets/base",
     "model_module_version": "1.2.0",
     "model_name": "LayoutModel",
     "state": {
      "_model_module": "@jupyter-widgets/base",
      "_model_module_version": "1.2.0",
      "_model_name": "LayoutModel",
      "_view_count": null,
      "_view_module": "@jupyter-widgets/base",
      "_view_module_version": "1.2.0",
      "_view_name": "LayoutView",
      "align_content": null,
      "align_items": null,
      "align_self": null,
      "border": null,
      "bottom": null,
      "display": null,
      "flex": null,
      "flex_flow": null,
      "grid_area": null,
      "grid_auto_columns": null,
      "grid_auto_flow": null,
      "grid_auto_rows": null,
      "grid_column": null,
      "grid_gap": null,
      "grid_row": null,
      "grid_template_areas": null,
      "grid_template_columns": null,
      "grid_template_rows": null,
      "height": null,
      "justify_content": null,
      "justify_items": null,
      "left": null,
      "margin": null,
      "max_height": null,
      "max_width": null,
      "min_height": null,
      "min_width": null,
      "object_fit": null,
      "object_position": null,
      "order": null,
      "overflow": null,
      "overflow_x": null,
      "overflow_y": null,
      "padding": null,
      "right": null,
      "top": null,
      "visibility": null,
      "width": null
     }
    },
    "5fbcf2935eda40fd87621002a8b3229f": {
     "model_module": "@jupyter-widgets/controls",
     "model_module_version": "1.5.0",
     "model_name": "HBoxModel",
     "state": {
      "_dom_classes": [],
      "_model_module": "@jupyter-widgets/controls",
      "_model_module_version": "1.5.0",
      "_model_name": "HBoxModel",
      "_view_count": null,
      "_view_module": "@jupyter-widgets/controls",
      "_view_module_version": "1.5.0",
      "_view_name": "HBoxView",
      "box_style": "",
      "children": [
       "IPY_MODEL_45bdee31f22548c284fa9bb03e6167ed",
       "IPY_MODEL_f80300206a78489497b437912edfa0cd",
       "IPY_MODEL_d0a88ba3d8684a3d83b8706b0ccc9238"
      ],
      "layout": "IPY_MODEL_c88015aa0c2344b5a7bdd0de5850c17d"
     }
    },
    "665f54c01fcb4f5a825e2373212c2bdc": {
     "model_module": "@jupyter-widgets/controls",
     "model_module_version": "1.5.0",
     "model_name": "FloatProgressModel",
     "state": {
      "_dom_classes": [],
      "_model_module": "@jupyter-widgets/controls",
      "_model_module_version": "1.5.0",
      "_model_name": "FloatProgressModel",
      "_view_count": null,
      "_view_module": "@jupyter-widgets/controls",
      "_view_module_version": "1.5.0",
      "_view_name": "ProgressView",
      "bar_style": "success",
      "description": "",
      "description_tooltip": null,
      "layout": "IPY_MODEL_0450b322a25c40b3bbf43018c5881311",
      "max": 2,
      "min": 0,
      "orientation": "horizontal",
      "style": "IPY_MODEL_6cf379ee60b348f8a2734973cfb9117f",
      "value": 2
     }
    },
    "6cf379ee60b348f8a2734973cfb9117f": {
     "model_module": "@jupyter-widgets/controls",
     "model_module_version": "1.5.0",
     "model_name": "ProgressStyleModel",
     "state": {
      "_model_module": "@jupyter-widgets/controls",
      "_model_module_version": "1.5.0",
      "_model_name": "ProgressStyleModel",
      "_view_count": null,
      "_view_module": "@jupyter-widgets/base",
      "_view_module_version": "1.2.0",
      "_view_name": "StyleView",
      "bar_color": null,
      "description_width": ""
     }
    },
    "6da1af5779c24d638add4701f15cb5a1": {
     "model_module": "@jupyter-widgets/controls",
     "model_module_version": "1.5.0",
     "model_name": "DescriptionStyleModel",
     "state": {
      "_model_module": "@jupyter-widgets/controls",
      "_model_module_version": "1.5.0",
      "_model_name": "DescriptionStyleModel",
      "_view_count": null,
      "_view_module": "@jupyter-widgets/base",
      "_view_module_version": "1.2.0",
      "_view_name": "StyleView",
      "description_width": ""
     }
    },
    "772654c12c78426ca91f96b19936afdb": {
     "model_module": "@jupyter-widgets/controls",
     "model_module_version": "1.5.0",
     "model_name": "HBoxModel",
     "state": {
      "_dom_classes": [],
      "_model_module": "@jupyter-widgets/controls",
      "_model_module_version": "1.5.0",
      "_model_name": "HBoxModel",
      "_view_count": null,
      "_view_module": "@jupyter-widgets/controls",
      "_view_module_version": "1.5.0",
      "_view_name": "HBoxView",
      "box_style": "",
      "children": [
       "IPY_MODEL_12c0f327a8a447acb8d3c98ff58720d4",
       "IPY_MODEL_ee8127af1a964221b5d9b3a5d61a8d62",
       "IPY_MODEL_a7fd1fe1f5c04e0da3c004c0f9d8ae09"
      ],
      "layout": "IPY_MODEL_424a6881ae904e65a56b83f7e8183a1f"
     }
    },
    "774a8688d9c742c6a532e0cd419b0509": {
     "model_module": "@jupyter-widgets/controls",
     "model_module_version": "1.5.0",
     "model_name": "HTMLModel",
     "state": {
      "_dom_classes": [],
      "_model_module": "@jupyter-widgets/controls",
      "_model_module_version": "1.5.0",
      "_model_name": "HTMLModel",
      "_view_count": null,
      "_view_module": "@jupyter-widgets/controls",
      "_view_module_version": "1.5.0",
      "_view_name": "HTMLView",
      "description": "",
      "description_tooltip": null,
      "layout": "IPY_MODEL_3939e03de1034cc6b7c169c13e69aefe",
      "placeholder": "​",
      "style": "IPY_MODEL_da7c18c457e0489394202fdb76540bd7",
      "value": "Map: 100%"
     }
    },
    "9285a8b5c3eb4d1889112c2062e62a7b": {
     "model_module": "@jupyter-widgets/controls",
     "model_module_version": "1.5.0",
     "model_name": "HBoxModel",
     "state": {
      "_dom_classes": [],
      "_model_module": "@jupyter-widgets/controls",
      "_model_module_version": "1.5.0",
      "_model_name": "HBoxModel",
      "_view_count": null,
      "_view_module": "@jupyter-widgets/controls",
      "_view_module_version": "1.5.0",
      "_view_name": "HBoxView",
      "box_style": "",
      "children": [
       "IPY_MODEL_774a8688d9c742c6a532e0cd419b0509",
       "IPY_MODEL_a18003dd6a28484fb3e64e7539bfbd8f",
       "IPY_MODEL_df46b38efcd84fccb6a933bc728c539f"
      ],
      "layout": "IPY_MODEL_b4c2dc8a0f614016893d320e71deed9c"
     }
    },
    "9c1ba9dec4124bcdac2d7fecb039f8e3": {
     "model_module": "@jupyter-widgets/base",
     "model_module_version": "1.2.0",
     "model_name": "LayoutModel",
     "state": {
      "_model_module": "@jupyter-widgets/base",
      "_model_module_version": "1.2.0",
      "_model_name": "LayoutModel",
      "_view_count": null,
      "_view_module": "@jupyter-widgets/base",
      "_view_module_version": "1.2.0",
      "_view_name": "LayoutView",
      "align_content": null,
      "align_items": null,
      "align_self": null,
      "border": null,
      "bottom": null,
      "display": null,
      "flex": null,
      "flex_flow": null,
      "grid_area": null,
      "grid_auto_columns": null,
      "grid_auto_flow": null,
      "grid_auto_rows": null,
      "grid_column": null,
      "grid_gap": null,
      "grid_row": null,
      "grid_template_areas": null,
      "grid_template_columns": null,
      "grid_template_rows": null,
      "height": null,
      "justify_content": null,
      "justify_items": null,
      "left": null,
      "margin": null,
      "max_height": null,
      "max_width": null,
      "min_height": null,
      "min_width": null,
      "object_fit": null,
      "object_position": null,
      "order": null,
      "overflow": null,
      "overflow_x": null,
      "overflow_y": null,
      "padding": null,
      "right": null,
      "top": null,
      "visibility": null,
      "width": null
     }
    },
    "a18003dd6a28484fb3e64e7539bfbd8f": {
     "model_module": "@jupyter-widgets/controls",
     "model_module_version": "1.5.0",
     "model_name": "FloatProgressModel",
     "state": {
      "_dom_classes": [],
      "_model_module": "@jupyter-widgets/controls",
      "_model_module_version": "1.5.0",
      "_model_name": "FloatProgressModel",
      "_view_count": null,
      "_view_module": "@jupyter-widgets/controls",
      "_view_module_version": "1.5.0",
      "_view_name": "ProgressView",
      "bar_style": "success",
      "description": "",
      "description_tooltip": null,
      "layout": "IPY_MODEL_053463bb39b349b3824456caf010f4ab",
      "max": 293,
      "min": 0,
      "orientation": "horizontal",
      "style": "IPY_MODEL_cf0b7d1489b74c118ba040f1e8503957",
      "value": 293
     }
    },
    "a7fd1fe1f5c04e0da3c004c0f9d8ae09": {
     "model_module": "@jupyter-widgets/controls",
     "model_module_version": "1.5.0",
     "model_name": "HTMLModel",
     "state": {
      "_dom_classes": [],
      "_model_module": "@jupyter-widgets/controls",
      "_model_module_version": "1.5.0",
      "_model_name": "HTMLModel",
      "_view_count": null,
      "_view_module": "@jupyter-widgets/controls",
      "_view_module_version": "1.5.0",
      "_view_name": "HTMLView",
      "description": "",
      "description_tooltip": null,
      "layout": "IPY_MODEL_55d07fc7d0404b5cbccc6914d4a1710d",
      "placeholder": "​",
      "style": "IPY_MODEL_42bf50cf89234260a79b43f37c21863e",
      "value": " 2/2 [00:02&lt;00:00,  1.12s/it]"
     }
    },
    "b4c2dc8a0f614016893d320e71deed9c": {
     "model_module": "@jupyter-widgets/base",
     "model_module_version": "1.2.0",
     "model_name": "LayoutModel",
     "state": {
      "_model_module": "@jupyter-widgets/base",
      "_model_module_version": "1.2.0",
      "_model_name": "LayoutModel",
      "_view_count": null,
      "_view_module": "@jupyter-widgets/base",
      "_view_module_version": "1.2.0",
      "_view_name": "LayoutView",
      "align_content": null,
      "align_items": null,
      "align_self": null,
      "border": null,
      "bottom": null,
      "display": null,
      "flex": null,
      "flex_flow": null,
      "grid_area": null,
      "grid_auto_columns": null,
      "grid_auto_flow": null,
      "grid_auto_rows": null,
      "grid_column": null,
      "grid_gap": null,
      "grid_row": null,
      "grid_template_areas": null,
      "grid_template_columns": null,
      "grid_template_rows": null,
      "height": null,
      "justify_content": null,
      "justify_items": null,
      "left": null,
      "margin": null,
      "max_height": null,
      "max_width": null,
      "min_height": null,
      "min_width": null,
      "object_fit": null,
      "object_position": null,
      "order": null,
      "overflow": null,
      "overflow_x": null,
      "overflow_y": null,
      "padding": null,
      "right": null,
      "top": null,
      "visibility": null,
      "width": null
     }
    },
    "b72dfadef55248c6be00f70f6ca22414": {
     "model_module": "@jupyter-widgets/base",
     "model_module_version": "1.2.0",
     "model_name": "LayoutModel",
     "state": {
      "_model_module": "@jupyter-widgets/base",
      "_model_module_version": "1.2.0",
      "_model_name": "LayoutModel",
      "_view_count": null,
      "_view_module": "@jupyter-widgets/base",
      "_view_module_version": "1.2.0",
      "_view_name": "LayoutView",
      "align_content": null,
      "align_items": null,
      "align_self": null,
      "border": null,
      "bottom": null,
      "display": null,
      "flex": null,
      "flex_flow": null,
      "grid_area": null,
      "grid_auto_columns": null,
      "grid_auto_flow": null,
      "grid_auto_rows": null,
      "grid_column": null,
      "grid_gap": null,
      "grid_row": null,
      "grid_template_areas": null,
      "grid_template_columns": null,
      "grid_template_rows": null,
      "height": null,
      "justify_content": null,
      "justify_items": null,
      "left": null,
      "margin": null,
      "max_height": null,
      "max_width": null,
      "min_height": null,
      "min_width": null,
      "object_fit": null,
      "object_position": null,
      "order": null,
      "overflow": null,
      "overflow_x": null,
      "overflow_y": null,
      "padding": null,
      "right": null,
      "top": null,
      "visibility": null,
      "width": null
     }
    },
    "baec49fb05d8406cae3b13db38963290": {
     "model_module": "@jupyter-widgets/controls",
     "model_module_version": "1.5.0",
     "model_name": "HBoxModel",
     "state": {
      "_dom_classes": [],
      "_model_module": "@jupyter-widgets/controls",
      "_model_module_version": "1.5.0",
      "_model_name": "HBoxModel",
      "_view_count": null,
      "_view_module": "@jupyter-widgets/controls",
      "_view_module_version": "1.5.0",
      "_view_name": "HBoxView",
      "box_style": "",
      "children": [
       "IPY_MODEL_15da4ef9210246b19e951ef1b51aef39",
       "IPY_MODEL_665f54c01fcb4f5a825e2373212c2bdc",
       "IPY_MODEL_0571049529e64b9faf688878e0c00594"
      ],
      "layout": "IPY_MODEL_df8c9d39d5fa46f98067f0149a1e024e"
     }
    },
    "c88015aa0c2344b5a7bdd0de5850c17d": {
     "model_module": "@jupyter-widgets/base",
     "model_module_version": "1.2.0",
     "model_name": "LayoutModel",
     "state": {
      "_model_module": "@jupyter-widgets/base",
      "_model_module_version": "1.2.0",
      "_model_name": "LayoutModel",
      "_view_count": null,
      "_view_module": "@jupyter-widgets/base",
      "_view_module_version": "1.2.0",
      "_view_name": "LayoutView",
      "align_content": null,
      "align_items": null,
      "align_self": null,
      "border": null,
      "bottom": null,
      "display": null,
      "flex": null,
      "flex_flow": null,
      "grid_area": null,
      "grid_auto_columns": null,
      "grid_auto_flow": null,
      "grid_auto_rows": null,
      "grid_column": null,
      "grid_gap": null,
      "grid_row": null,
      "grid_template_areas": null,
      "grid_template_columns": null,
      "grid_template_rows": null,
      "height": null,
      "justify_content": null,
      "justify_items": null,
      "left": null,
      "margin": null,
      "max_height": null,
      "max_width": null,
      "min_height": null,
      "min_width": null,
      "object_fit": null,
      "object_position": null,
      "order": null,
      "overflow": null,
      "overflow_x": null,
      "overflow_y": null,
      "padding": null,
      "right": null,
      "top": null,
      "visibility": null,
      "width": null
     }
    },
    "cf0b7d1489b74c118ba040f1e8503957": {
     "model_module": "@jupyter-widgets/controls",
     "model_module_version": "1.5.0",
     "model_name": "ProgressStyleModel",
     "state": {
      "_model_module": "@jupyter-widgets/controls",
      "_model_module_version": "1.5.0",
      "_model_name": "ProgressStyleModel",
      "_view_count": null,
      "_view_module": "@jupyter-widgets/base",
      "_view_module_version": "1.2.0",
      "_view_name": "StyleView",
      "bar_color": null,
      "description_width": ""
     }
    },
    "d0a88ba3d8684a3d83b8706b0ccc9238": {
     "model_module": "@jupyter-widgets/controls",
     "model_module_version": "1.5.0",
     "model_name": "HTMLModel",
     "state": {
      "_dom_classes": [],
      "_model_module": "@jupyter-widgets/controls",
      "_model_module_version": "1.5.0",
      "_model_name": "HTMLModel",
      "_view_count": null,
      "_view_module": "@jupyter-widgets/controls",
      "_view_module_version": "1.5.0",
      "_view_name": "HTMLView",
      "description": "",
      "description_tooltip": null,
      "layout": "IPY_MODEL_042cff41c6a1481e9bbc9449548b5bce",
      "placeholder": "​",
      "style": "IPY_MODEL_0854e0694a234b878d95caddbd409f0a",
      "value": " 2637/2637 [00:04&lt;00:00, 712.93 examples/s]"
     }
    },
    "d86f5aa29cf04ed58fe519fb68824025": {
     "model_module": "@jupyter-widgets/base",
     "model_module_version": "1.2.0",
     "model_name": "LayoutModel",
     "state": {
      "_model_module": "@jupyter-widgets/base",
      "_model_module_version": "1.2.0",
      "_model_name": "LayoutModel",
      "_view_count": null,
      "_view_module": "@jupyter-widgets/base",
      "_view_module_version": "1.2.0",
      "_view_name": "LayoutView",
      "align_content": null,
      "align_items": null,
      "align_self": null,
      "border": null,
      "bottom": null,
      "display": null,
      "flex": null,
      "flex_flow": null,
      "grid_area": null,
      "grid_auto_columns": null,
      "grid_auto_flow": null,
      "grid_auto_rows": null,
      "grid_column": null,
      "grid_gap": null,
      "grid_row": null,
      "grid_template_areas": null,
      "grid_template_columns": null,
      "grid_template_rows": null,
      "height": null,
      "justify_content": null,
      "justify_items": null,
      "left": null,
      "margin": null,
      "max_height": null,
      "max_width": null,
      "min_height": null,
      "min_width": null,
      "object_fit": null,
      "object_position": null,
      "order": null,
      "overflow": null,
      "overflow_x": null,
      "overflow_y": null,
      "padding": null,
      "right": null,
      "top": null,
      "visibility": null,
      "width": null
     }
    },
    "da7c18c457e0489394202fdb76540bd7": {
     "model_module": "@jupyter-widgets/controls",
     "model_module_version": "1.5.0",
     "model_name": "DescriptionStyleModel",
     "state": {
      "_model_module": "@jupyter-widgets/controls",
      "_model_module_version": "1.5.0",
      "_model_name": "DescriptionStyleModel",
      "_view_count": null,
      "_view_module": "@jupyter-widgets/base",
      "_view_module_version": "1.2.0",
      "_view_name": "StyleView",
      "description_width": ""
     }
    },
    "db2abfe0044043f586e594d8c1e36a32": {
     "model_module": "@jupyter-widgets/controls",
     "model_module_version": "1.5.0",
     "model_name": "DescriptionStyleModel",
     "state": {
      "_model_module": "@jupyter-widgets/controls",
      "_model_module_version": "1.5.0",
      "_model_name": "DescriptionStyleModel",
      "_view_count": null,
      "_view_module": "@jupyter-widgets/base",
      "_view_module_version": "1.2.0",
      "_view_name": "StyleView",
      "description_width": ""
     }
    },
    "dca5cf5183ea44d88d269b865d6ab32b": {
     "model_module": "@jupyter-widgets/controls",
     "model_module_version": "1.5.0",
     "model_name": "DescriptionStyleModel",
     "state": {
      "_model_module": "@jupyter-widgets/controls",
      "_model_module_version": "1.5.0",
      "_model_name": "DescriptionStyleModel",
      "_view_count": null,
      "_view_module": "@jupyter-widgets/base",
      "_view_module_version": "1.2.0",
      "_view_name": "StyleView",
      "description_width": ""
     }
    },
    "df46b38efcd84fccb6a933bc728c539f": {
     "model_module": "@jupyter-widgets/controls",
     "model_module_version": "1.5.0",
     "model_name": "HTMLModel",
     "state": {
      "_dom_classes": [],
      "_model_module": "@jupyter-widgets/controls",
      "_model_module_version": "1.5.0",
      "_model_name": "HTMLModel",
      "_view_count": null,
      "_view_module": "@jupyter-widgets/controls",
      "_view_module_version": "1.5.0",
      "_view_name": "HTMLView",
      "description": "",
      "description_tooltip": null,
      "layout": "IPY_MODEL_1bb5509d8a8f4bcd96e4fc4585b31bc9",
      "placeholder": "​",
      "style": "IPY_MODEL_db2abfe0044043f586e594d8c1e36a32",
      "value": " 293/293 [00:00&lt;00:00, 542.35 examples/s]"
     }
    },
    "df8c9d39d5fa46f98067f0149a1e024e": {
     "model_module": "@jupyter-widgets/base",
     "model_module_version": "1.2.0",
     "model_name": "LayoutModel",
     "state": {
      "_model_module": "@jupyter-widgets/base",
      "_model_module_version": "1.2.0",
      "_model_name": "LayoutModel",
      "_view_count": null,
      "_view_module": "@jupyter-widgets/base",
      "_view_module_version": "1.2.0",
      "_view_name": "LayoutView",
      "align_content": null,
      "align_items": null,
      "align_self": null,
      "border": null,
      "bottom": null,
      "display": null,
      "flex": null,
      "flex_flow": null,
      "grid_area": null,
      "grid_auto_columns": null,
      "grid_auto_flow": null,
      "grid_auto_rows": null,
      "grid_column": null,
      "grid_gap": null,
      "grid_row": null,
      "grid_template_areas": null,
      "grid_template_columns": null,
      "grid_template_rows": null,
      "height": null,
      "justify_content": null,
      "justify_items": null,
      "left": null,
      "margin": null,
      "max_height": null,
      "max_width": null,
      "min_height": null,
      "min_width": null,
      "object_fit": null,
      "object_position": null,
      "order": null,
      "overflow": null,
      "overflow_x": null,
      "overflow_y": null,
      "padding": null,
      "right": null,
      "top": null,
      "visibility": null,
      "width": null
     }
    },
    "e3553b747a4e4c34b18aafbda06391d2": {
     "model_module": "@jupyter-widgets/controls",
     "model_module_version": "1.5.0",
     "model_name": "DescriptionStyleModel",
     "state": {
      "_model_module": "@jupyter-widgets/controls",
      "_model_module_version": "1.5.0",
      "_model_name": "DescriptionStyleModel",
      "_view_count": null,
      "_view_module": "@jupyter-widgets/base",
      "_view_module_version": "1.2.0",
      "_view_name": "StyleView",
      "description_width": ""
     }
    },
    "e8a8b2118e1d4fe0aaeef55291354c9a": {
     "model_module": "@jupyter-widgets/base",
     "model_module_version": "1.2.0",
     "model_name": "LayoutModel",
     "state": {
      "_model_module": "@jupyter-widgets/base",
      "_model_module_version": "1.2.0",
      "_model_name": "LayoutModel",
      "_view_count": null,
      "_view_module": "@jupyter-widgets/base",
      "_view_module_version": "1.2.0",
      "_view_name": "LayoutView",
      "align_content": null,
      "align_items": null,
      "align_self": null,
      "border": null,
      "bottom": null,
      "display": null,
      "flex": null,
      "flex_flow": null,
      "grid_area": null,
      "grid_auto_columns": null,
      "grid_auto_flow": null,
      "grid_auto_rows": null,
      "grid_column": null,
      "grid_gap": null,
      "grid_row": null,
      "grid_template_areas": null,
      "grid_template_columns": null,
      "grid_template_rows": null,
      "height": null,
      "justify_content": null,
      "justify_items": null,
      "left": null,
      "margin": null,
      "max_height": null,
      "max_width": null,
      "min_height": null,
      "min_width": null,
      "object_fit": null,
      "object_position": null,
      "order": null,
      "overflow": null,
      "overflow_x": null,
      "overflow_y": null,
      "padding": null,
      "right": null,
      "top": null,
      "visibility": null,
      "width": null
     }
    },
    "ee8127af1a964221b5d9b3a5d61a8d62": {
     "model_module": "@jupyter-widgets/controls",
     "model_module_version": "1.5.0",
     "model_name": "FloatProgressModel",
     "state": {
      "_dom_classes": [],
      "_model_module": "@jupyter-widgets/controls",
      "_model_module_version": "1.5.0",
      "_model_name": "FloatProgressModel",
      "_view_count": null,
      "_view_module": "@jupyter-widgets/controls",
      "_view_module_version": "1.5.0",
      "_view_name": "ProgressView",
      "bar_style": "success",
      "description": "",
      "description_tooltip": null,
      "layout": "IPY_MODEL_48e43964664b448ebce3ee544ac040d7",
      "max": 2,
      "min": 0,
      "orientation": "horizontal",
      "style": "IPY_MODEL_1332256956504700aa98b667680e6851",
      "value": 2
     }
    },
    "efe165456be745c59b60257d219867c9": {
     "model_module": "@jupyter-widgets/controls",
     "model_module_version": "1.5.0",
     "model_name": "DescriptionStyleModel",
     "state": {
      "_model_module": "@jupyter-widgets/controls",
      "_model_module_version": "1.5.0",
      "_model_name": "DescriptionStyleModel",
      "_view_count": null,
      "_view_module": "@jupyter-widgets/base",
      "_view_module_version": "1.2.0",
      "_view_name": "StyleView",
      "description_width": ""
     }
    },
    "f80300206a78489497b437912edfa0cd": {
     "model_module": "@jupyter-widgets/controls",
     "model_module_version": "1.5.0",
     "model_name": "FloatProgressModel",
     "state": {
      "_dom_classes": [],
      "_model_module": "@jupyter-widgets/controls",
      "_model_module_version": "1.5.0",
      "_model_name": "FloatProgressModel",
      "_view_count": null,
      "_view_module": "@jupyter-widgets/controls",
      "_view_module_version": "1.5.0",
      "_view_name": "ProgressView",
      "bar_style": "success",
      "description": "",
      "description_tooltip": null,
      "layout": "IPY_MODEL_b72dfadef55248c6be00f70f6ca22414",
      "max": 2637,
      "min": 0,
      "orientation": "horizontal",
      "style": "IPY_MODEL_4471782d21cc47c1b0f587d939e53387",
      "value": 2637
     }
    }
   }
  }
 },
 "nbformat": 4,
 "nbformat_minor": 0
}
