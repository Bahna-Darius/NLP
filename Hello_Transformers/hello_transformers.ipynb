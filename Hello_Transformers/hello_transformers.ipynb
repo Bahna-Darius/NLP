{
 "cells": [
  {
   "cell_type": "code",
   "execution_count": 1,
   "id": "initial_id",
   "metadata": {
    "collapsed": true,
    "ExecuteTime": {
     "end_time": "2024-08-14T10:45:10.705500Z",
     "start_time": "2024-08-14T10:45:02.618991Z"
    }
   },
   "outputs": [],
   "source": [
    "from transformers import pipeline\n",
    "import pandas as pd"
   ]
  },
  {
   "cell_type": "code",
   "outputs": [
    {
     "name": "stdout",
     "output_type": "stream",
     "text": [
      "WARNING:tensorflow:From C:\\Users\\Darius\\PycharmProjects\\NLP\\venv\\Lib\\site-packages\\tf_keras\\src\\losses.py:2976: The name tf.losses.sparse_softmax_cross_entropy is deprecated. Please use tf.compat.v1.losses.sparse_softmax_cross_entropy instead.\n"
     ]
    },
    {
     "data": {
      "text/plain": "model.safetensors:   0%|          | 0.00/268M [00:00<?, ?B/s]",
      "application/vnd.jupyter.widget-view+json": {
       "version_major": 2,
       "version_minor": 0,
       "model_id": "9debc075333a4e37927f3ef787c807ad"
      }
     },
     "metadata": {},
     "output_type": "display_data"
    },
    {
     "data": {
      "text/plain": "tokenizer_config.json:   0%|          | 0.00/48.0 [00:00<?, ?B/s]",
      "application/vnd.jupyter.widget-view+json": {
       "version_major": 2,
       "version_minor": 0,
       "model_id": "5af0d00c2870405f8cfeef03bda1955d"
      }
     },
     "metadata": {},
     "output_type": "display_data"
    },
    {
     "data": {
      "text/plain": "vocab.txt:   0%|          | 0.00/232k [00:00<?, ?B/s]",
      "application/vnd.jupyter.widget-view+json": {
       "version_major": 2,
       "version_minor": 0,
       "model_id": "8994604d12e44c1384616f9623cc094b"
      }
     },
     "metadata": {},
     "output_type": "display_data"
    },
    {
     "name": "stderr",
     "output_type": "stream",
     "text": [
      "C:\\Users\\Darius\\PycharmProjects\\NLP\\venv\\Lib\\site-packages\\transformers\\tokenization_utils_base.py:1601: FutureWarning: `clean_up_tokenization_spaces` was not set. It will be set to `True` by default. This behavior will be depracted in transformers v4.45, and will be then set to `False` by default. For more details check this issue: https://github.com/huggingface/transformers/issues/31884\n",
      "  warnings.warn(\n"
     ]
    },
    {
     "data": {
      "text/plain": "      label    score\n0  POSITIVE  0.99988",
      "text/html": "<div>\n<style scoped>\n    .dataframe tbody tr th:only-of-type {\n        vertical-align: middle;\n    }\n\n    .dataframe tbody tr th {\n        vertical-align: top;\n    }\n\n    .dataframe thead th {\n        text-align: right;\n    }\n</style>\n<table border=\"1\" class=\"dataframe\">\n  <thead>\n    <tr style=\"text-align: right;\">\n      <th></th>\n      <th>label</th>\n      <th>score</th>\n    </tr>\n  </thead>\n  <tbody>\n    <tr>\n      <th>0</th>\n      <td>POSITIVE</td>\n      <td>0.99988</td>\n    </tr>\n  </tbody>\n</table>\n</div>"
     },
     "execution_count": 5,
     "metadata": {},
     "output_type": "execute_result"
    }
   ],
   "source": [
    "classifer = pipeline(task=\"text-classification\", model=\"distilbert/distilbert-base-uncased-finetuned-sst-2-english\")\n",
    "\n",
    "text = \"I am happy\"\n",
    "output = classifer(text)\n",
    "pd.DataFrame(output)"
   ],
   "metadata": {
    "collapsed": false,
    "ExecuteTime": {
     "end_time": "2024-08-14T10:32:19.936331Z",
     "start_time": "2024-08-14T10:32:05.882537Z"
    }
   },
   "id": "55ba1645c2679f06",
   "execution_count": 5
  },
  {
   "cell_type": "markdown",
   "source": [],
   "metadata": {
    "collapsed": false
   },
   "id": "66d05d107a4fad38"
  },
  {
   "cell_type": "markdown",
   "source": [
    "# Named Entity Recognition\n",
    "\n",
    "## Token Classification Model\n",
    "\n",
    "Token is a word or a character. In NER, we are interested in identifying the tokens that are entities.\n"
   ],
   "metadata": {
    "collapsed": false
   },
   "id": "d9bd0379a93f4db8"
  },
  {
   "cell_type": "code",
   "outputs": [
    {
     "name": "stderr",
     "output_type": "stream",
     "text": [
      "Some weights of the model checkpoint at FacebookAI/xlm-roberta-large-finetuned-conll03-english were not used when initializing XLMRobertaForTokenClassification: ['roberta.pooler.dense.bias', 'roberta.pooler.dense.weight']\n",
      "- This IS expected if you are initializing XLMRobertaForTokenClassification from the checkpoint of a model trained on another task or with another architecture (e.g. initializing a BertForSequenceClassification model from a BertForPreTraining model).\n",
      "- This IS NOT expected if you are initializing XLMRobertaForTokenClassification from the checkpoint of a model that you expect to be exactly identical (initializing a BertForSequenceClassification model from a BertForSequenceClassification model).\n",
      "C:\\Users\\Darius\\PycharmProjects\\NLP\\venv\\Lib\\site-packages\\transformers\\tokenization_utils_base.py:1601: FutureWarning: `clean_up_tokenization_spaces` was not set. It will be set to `True` by default. This behavior will be depracted in transformers v4.45, and will be then set to `False` by default. For more details check this issue: https://github.com/huggingface/transformers/issues/31884\n",
      "  warnings.warn(\n"
     ]
    },
    {
     "data": {
      "text/plain": "  entity     score  index      word  start  end\n0  I-PER  0.999936      4     ▁Dari     11   15\n1  I-PER  0.999952      5        us     15   17\n2  I-ORG  0.999990     10       ▁Bi     30   32\n3  I-ORG  0.999985     11        xa     32   34\n4  I-ORG  0.999990     12         g     34   35\n5  I-ORG  0.999988     13  ▁Romania     36   43",
      "text/html": "<div>\n<style scoped>\n    .dataframe tbody tr th:only-of-type {\n        vertical-align: middle;\n    }\n\n    .dataframe tbody tr th {\n        vertical-align: top;\n    }\n\n    .dataframe thead th {\n        text-align: right;\n    }\n</style>\n<table border=\"1\" class=\"dataframe\">\n  <thead>\n    <tr style=\"text-align: right;\">\n      <th></th>\n      <th>entity</th>\n      <th>score</th>\n      <th>index</th>\n      <th>word</th>\n      <th>start</th>\n      <th>end</th>\n    </tr>\n  </thead>\n  <tbody>\n    <tr>\n      <th>0</th>\n      <td>I-PER</td>\n      <td>0.999936</td>\n      <td>4</td>\n      <td>▁Dari</td>\n      <td>11</td>\n      <td>15</td>\n    </tr>\n    <tr>\n      <th>1</th>\n      <td>I-PER</td>\n      <td>0.999952</td>\n      <td>5</td>\n      <td>us</td>\n      <td>15</td>\n      <td>17</td>\n    </tr>\n    <tr>\n      <th>2</th>\n      <td>I-ORG</td>\n      <td>0.999990</td>\n      <td>10</td>\n      <td>▁Bi</td>\n      <td>30</td>\n      <td>32</td>\n    </tr>\n    <tr>\n      <th>3</th>\n      <td>I-ORG</td>\n      <td>0.999985</td>\n      <td>11</td>\n      <td>xa</td>\n      <td>32</td>\n      <td>34</td>\n    </tr>\n    <tr>\n      <th>4</th>\n      <td>I-ORG</td>\n      <td>0.999990</td>\n      <td>12</td>\n      <td>g</td>\n      <td>34</td>\n      <td>35</td>\n    </tr>\n    <tr>\n      <th>5</th>\n      <td>I-ORG</td>\n      <td>0.999988</td>\n      <td>13</td>\n      <td>▁Romania</td>\n      <td>36</td>\n      <td>43</td>\n    </tr>\n  </tbody>\n</table>\n</div>"
     },
     "execution_count": 9,
     "metadata": {},
     "output_type": "execute_result"
    }
   ],
   "source": [
    "ner_taegger = pipeline(task=\"ner\", model=\"FacebookAI/xlm-roberta-large-finetuned-conll03-english\")   # ner is an alias for token-classification\n",
    "text_token = \"My name is Darius. I work for Bixag Romania.\"\n",
    "\n",
    "output_token = ner_taegger(text_token)\n",
    "pd.DataFrame(output_token)"
   ],
   "metadata": {
    "collapsed": false,
    "ExecuteTime": {
     "end_time": "2024-08-14T11:06:04.284509Z",
     "start_time": "2024-08-14T11:06:01.367307Z"
    }
   },
   "id": "12f1046e397d8e61",
   "execution_count": 9
  },
  {
   "cell_type": "markdown",
   "source": [],
   "metadata": {
    "collapsed": false
   },
   "id": "46d5aacebef8ae0e"
  },
  {
   "cell_type": "markdown",
   "source": [],
   "metadata": {
    "collapsed": false
   },
   "id": "ed906819964ff3ed"
  },
  {
   "cell_type": "markdown",
   "source": [],
   "metadata": {
    "collapsed": false
   },
   "id": "2e2a3845e857966d"
  },
  {
   "cell_type": "markdown",
   "source": [
    "# Question Answering"
   ],
   "metadata": {
    "collapsed": false
   },
   "id": "1f76dfb851d37375"
  },
  {
   "cell_type": "code",
   "outputs": [],
   "source": [
    "text = \"\"\"\n",
    "Dear Amazon, last week I ordered an Optimus Prime action figure from your\n",
    "online store in India. Unfortunately when I opened the package, I discovered to\n",
    "my horror that I had been sent an action figure of Megatron instead!\n",
    "\"\"\""
   ],
   "metadata": {
    "collapsed": false,
    "ExecuteTime": {
     "end_time": "2024-08-14T11:35:59.979356Z",
     "start_time": "2024-08-14T11:35:59.974569Z"
    }
   },
   "id": "7383c2f0220d6356",
   "execution_count": 10
  },
  {
   "cell_type": "code",
   "outputs": [
    {
     "name": "stderr",
     "output_type": "stream",
     "text": [
      "No model was supplied, defaulted to distilbert/distilbert-base-cased-distilled-squad and revision 626af31 (https://huggingface.co/distilbert/distilbert-base-cased-distilled-squad).\n",
      "Using a pipeline without specifying a model name and revision in production is not recommended.\n",
      "C:\\Users\\Darius\\PycharmProjects\\NLP\\venv\\Lib\\site-packages\\transformers\\tokenization_utils_base.py:1601: FutureWarning: `clean_up_tokenization_spaces` was not set. It will be set to `True` by default. This behavior will be depracted in transformers v4.45, and will be then set to `False` by default. For more details check this issue: https://github.com/huggingface/transformers/issues/31884\n",
      "  warnings.warn(\n"
     ]
    }
   ],
   "source": [
    "reader = pipeline(\"question-answering\")\n",
    "\n",
    "question_customer = \"What was wrong?\"\n",
    "question_customer_1 = \"What did you order?\"\n",
    "question_customer_2 = \"What did you receive?\"\n",
    "\n",
    "\n",
    "output_question = reader(question=question_customer, context=text)      # use default model, but we can change with use models="
   ],
   "metadata": {
    "collapsed": false,
    "ExecuteTime": {
     "end_time": "2024-08-14T11:40:34.977551Z",
     "start_time": "2024-08-14T11:40:34.341782Z"
    }
   },
   "id": "2d097ca195a64af9",
   "execution_count": 17
  },
  {
   "cell_type": "code",
   "outputs": [
    {
     "data": {
      "text/plain": "score                                               0.27679\nstart                                                   170\nend                                                     222\nanswer    I had been sent an action figure of Megatron i...\ndtype: object"
     },
     "execution_count": 18,
     "metadata": {},
     "output_type": "execute_result"
    }
   ],
   "source": [
    "pd.Series(output_question)"
   ],
   "metadata": {
    "collapsed": false,
    "ExecuteTime": {
     "end_time": "2024-08-14T11:40:45.113787Z",
     "start_time": "2024-08-14T11:40:45.107439Z"
    }
   },
   "id": "4a17feaf386b389d",
   "execution_count": 18
  },
  {
   "cell_type": "code",
   "outputs": [],
   "source": [],
   "metadata": {
    "collapsed": false,
    "ExecuteTime": {
     "end_time": "2024-08-14T11:38:33.545768Z",
     "start_time": "2024-08-14T11:38:33.542975Z"
    }
   },
   "id": "17d840f1478f4c25",
   "execution_count": 16
  },
  {
   "cell_type": "code",
   "outputs": [],
   "source": [],
   "metadata": {
    "collapsed": false
   },
   "id": "ba1ea6d776bee258"
  }
 ],
 "metadata": {
  "kernelspec": {
   "display_name": "Python 3",
   "language": "python",
   "name": "python3"
  },
  "language_info": {
   "codemirror_mode": {
    "name": "ipython",
    "version": 2
   },
   "file_extension": ".py",
   "mimetype": "text/x-python",
   "name": "python",
   "nbconvert_exporter": "python",
   "pygments_lexer": "ipython2",
   "version": "2.7.6"
  }
 },
 "nbformat": 4,
 "nbformat_minor": 5
}
